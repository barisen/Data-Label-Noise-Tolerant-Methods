{
 "nbformat": 4,
 "nbformat_minor": 0,
 "metadata": {
  "colab": {
   "provenance": [],
   "gpuType": "T4"
  },
  "kernelspec": {
   "name": "python3",
   "display_name": "Python 3"
  },
  "language_info": {
   "name": "python"
  },
  "accelerator": "GPU"
 },
 "cells": [
  {
   "cell_type": "markdown",
   "source": [
    "# Data Quality Evaluation and Metrics\n",
    "---\n",
    "## Prototype: Data Label Noise Tolerant Methods in Tabular Data\n",
    "\n",
    "© 2024 Baris Sen. All Rights Reserved.\n"
   ],
   "metadata": {
    "id": "ne0w5AtG8i96"
   }
  },
  {
   "cell_type": "code",
   "source": [
    "# Necessary installs\n",
    "\n",
    "! pip install scikit-activeml\n",
    "! pip install cleanlab"
   ],
   "metadata": {
    "id": "MV0siIM0OD9n",
    "colab": {
     "base_uri": "https://localhost:8080/"
    },
    "outputId": "4bd82d52-34e4-4267-ff97-08a65e8b32f1"
   },
   "execution_count": null,
   "outputs": [
    {
     "output_type": "stream",
     "name": "stdout",
     "text": [
      "Requirement already satisfied: scikit-activeml in /usr/local/lib/python3.10/dist-packages (0.4.1)\n",
      "Requirement already satisfied: joblib<1.3,>=1.2 in /usr/local/lib/python3.10/dist-packages (from scikit-activeml) (1.2.0)\n",
      "Requirement already satisfied: numpy<1.25,>=1.22 in /usr/local/lib/python3.10/dist-packages (from scikit-activeml) (1.23.5)\n",
      "Requirement already satisfied: scipy<1.11,>=1.8 in /usr/local/lib/python3.10/dist-packages (from scikit-activeml) (1.10.1)\n",
      "Requirement already satisfied: scikit-learn<1.3,>=1.2 in /usr/local/lib/python3.10/dist-packages (from scikit-activeml) (1.2.2)\n",
      "Requirement already satisfied: matplotlib<3.8,>=3.5 in /usr/local/lib/python3.10/dist-packages (from scikit-activeml) (3.7.1)\n",
      "Requirement already satisfied: iteration-utilities<0.12,>=0.11 in /usr/local/lib/python3.10/dist-packages (from scikit-activeml) (0.11.0)\n",
      "Requirement already satisfied: contourpy>=1.0.1 in /usr/local/lib/python3.10/dist-packages (from matplotlib<3.8,>=3.5->scikit-activeml) (1.2.0)\n",
      "Requirement already satisfied: cycler>=0.10 in /usr/local/lib/python3.10/dist-packages (from matplotlib<3.8,>=3.5->scikit-activeml) (0.12.1)\n",
      "Requirement already satisfied: fonttools>=4.22.0 in /usr/local/lib/python3.10/dist-packages (from matplotlib<3.8,>=3.5->scikit-activeml) (4.47.0)\n",
      "Requirement already satisfied: kiwisolver>=1.0.1 in /usr/local/lib/python3.10/dist-packages (from matplotlib<3.8,>=3.5->scikit-activeml) (1.4.5)\n",
      "Requirement already satisfied: packaging>=20.0 in /usr/local/lib/python3.10/dist-packages (from matplotlib<3.8,>=3.5->scikit-activeml) (23.2)\n",
      "Requirement already satisfied: pillow>=6.2.0 in /usr/local/lib/python3.10/dist-packages (from matplotlib<3.8,>=3.5->scikit-activeml) (9.4.0)\n",
      "Requirement already satisfied: pyparsing>=2.3.1 in /usr/local/lib/python3.10/dist-packages (from matplotlib<3.8,>=3.5->scikit-activeml) (3.1.1)\n",
      "Requirement already satisfied: python-dateutil>=2.7 in /usr/local/lib/python3.10/dist-packages (from matplotlib<3.8,>=3.5->scikit-activeml) (2.8.2)\n",
      "Requirement already satisfied: threadpoolctl>=2.0.0 in /usr/local/lib/python3.10/dist-packages (from scikit-learn<1.3,>=1.2->scikit-activeml) (3.2.0)\n",
      "Requirement already satisfied: six>=1.5 in /usr/local/lib/python3.10/dist-packages (from python-dateutil>=2.7->matplotlib<3.8,>=3.5->scikit-activeml) (1.16.0)\n",
      "Requirement already satisfied: cleanlab in /usr/local/lib/python3.10/dist-packages (1.0.1)\n",
      "Requirement already satisfied: numpy>=1.11.3 in /usr/local/lib/python3.10/dist-packages (from cleanlab) (1.23.5)\n",
      "Requirement already satisfied: scikit-learn>=0.18 in /usr/local/lib/python3.10/dist-packages (from cleanlab) (1.2.2)\n",
      "Requirement already satisfied: scipy>=1.1.0 in /usr/local/lib/python3.10/dist-packages (from cleanlab) (1.10.1)\n",
      "Requirement already satisfied: tqdm>=4.53.0 in /usr/local/lib/python3.10/dist-packages (from cleanlab) (4.66.1)\n",
      "Requirement already satisfied: joblib>=1.1.1 in /usr/local/lib/python3.10/dist-packages (from scikit-learn>=0.18->cleanlab) (1.2.0)\n",
      "Requirement already satisfied: threadpoolctl>=2.0.0 in /usr/local/lib/python3.10/dist-packages (from scikit-learn>=0.18->cleanlab) (3.2.0)\n"
     ]
    }
   ]
  },
  {
   "cell_type": "markdown",
   "source": [
    "## AGENDA\n",
    "\n",
    "1.   Introduction\n",
    "2.   Literature Review\n",
    "3.   Topic Modeling \\\n",
    "  3.1 Imports & Loading of Data \\\n",
    "  3.2 Preprocessing \\\n",
    "  3.3 Model Training \\\n",
    "  3.4 Interpretation   \n",
    "  3.5 Conclusion\n",
    "4.   Data Label Noise\n",
    "5.   SOTA Methods in Data label noise work \\\n",
    "  5.1 Confident Learning - Cleanlab open source library \\\n",
    "    &emsp; 5.1.1 Regression Example in Grade DataSet\\\n",
    "    &emsp; 5.1.2 Binary Class Example in Brain Tumor Dataset\\\n",
    "    &emsp; 5.1.3 Multi Class - Financial Textual Dataset\\\n",
    "  5.2 Active Learning\\\n",
    "  &emsp; 5.2.1 Introduction\\\n",
    "  &emsp; 5.2.2 Application\n",
    "6. Comparison between SOTA models\n",
    "5. Further Contribution\n",
    "6. Conclusion\n",
    "7. References"
   ],
   "metadata": {
    "id": "bW-fymQoqSZ2"
   }
  },
  {
   "cell_type": "markdown",
   "source": [
    "## 1. Introduction"
   ],
   "metadata": {
    "id": "P8oQM7dPJTvl"
   }
  },
  {
   "cell_type": "markdown",
   "source": [
    "Improvements in performance of machine learning algorithms, architectures and models have been in focus in both academic and business sectors for the past decades.\n",
    "Researchers and professionals alike aspired for a better understanding of underlying patterns in data, as well as better prediction capabilities for future outcomes and therefore better decision making.\n",
    "\n",
    "While the development of more sophistiacted models, model tuning etc. to improve performance have been successful, breakthroughs often occur only after applying the right data to them (Zha et al., 2023). Without sufficient and clean data, the predictive potential of a model will remain limited and will result in not useful results, described as *Garbage In Garbage Out* (Rose & Fischer, 2011). For this reason, a shift in research towards a data centric approach developed in the past years. Quality data, thoughtful data management, and ethical considerations related to data are foundational elements for the success, fairness, and reliability of AI systems in a variety of domains. With this research field only becoming established throughout the last years, there is little to no structured documentation on papers and findings. With more and more articles and research being published in the field of Data Centric AI, a structured literature review is necessary."
   ],
   "metadata": {
    "id": "351kyo1MJgAO"
   }
  },
  {
   "cell_type": "markdown",
   "source": [
    "## 2. Literature Review:\n",
    "\n",
    "We carried out a Literature review in the field of Data Quality Evaluation and Metrics and have also covered a systematic review in the field of Data Quality Assessment and the methodologies developed since early years. We initially conducted the literature review by using keywords like 'Data Quality', 'Data Centric AI' etc. on Google scholar and in reputed journals of Data Analytics which gave us an idea about the research over the years in this area. Later we focused on publication in between the years 2016-2023, the most recent ones, in the journals ACM, VLDB, SIGMOD, EDBT, BTW, PACMMOD and CIDR. We have found 43 relevant papers so far. We found out a few topics like data fairness, label noise being recurrent ones in those papers, but in order to give a more structured outlook to our manual comparison, we decided to do Topic Modelling on these papers."
   ],
   "metadata": {
    "id": "IEAg3fy2VcBu"
   }
  },
  {
   "cell_type": "markdown",
   "source": [
    "## 2.1 Gettting Additional Literature from Google Scholar\n",
    "\n",
    "By using this method we can get the top cited resources from Google Scholar by using additional filters: https://github.com/WittmannF/sort-google-scholar\n"
   ],
   "metadata": {
    "id": "TfzZoaHOE5Yo"
   }
  },
  {
   "cell_type": "code",
   "source": [
    "#!pip install sortgs\n",
    "#!pip install selenium"
   ],
   "metadata": {
    "id": "APZ6BwQKFNGF"
   },
   "execution_count": null,
   "outputs": []
  },
  {
   "cell_type": "code",
   "source": [
    "from selenium import webdriver\n",
    "\n",
    "driver=webdriver.Chrome()\n"
   ],
   "metadata": {
    "id": "sN7AsvLNIvmb",
    "outputId": "bd09e4ca-c041-4894-fe17-7af1952f42c0",
    "colab": {
     "base_uri": "https://localhost:8080/",
     "height": 773
    }
   },
   "execution_count": null,
   "outputs": [
    {
     "output_type": "error",
     "ename": "SessionNotCreatedException",
     "evalue": "Message: session not created: Chrome failed to start: exited normally.\n  (session not created: DevToolsActivePort file doesn't exist)\n  (The process started from chrome location /root/.cache/selenium/chrome/linux64/122.0.6261.94/chrome is no longer running, so ChromeDriver is assuming that Chrome has crashed.)\nStacktrace:\n#0 0x56edd8aa5e93 <unknown>\n#1 0x56edd879dce6 <unknown>\n#2 0x56edd87d26fa <unknown>\n#3 0x56edd87ce6ed <unknown>\n#4 0x56edd881771c <unknown>\n#5 0x56edd880ac53 <unknown>\n#6 0x56edd87dbdb3 <unknown>\n#7 0x56edd87dc77e <unknown>\n#8 0x56edd8a6b7cb <unknown>\n#9 0x56edd8a6f7e5 <unknown>\n#10 0x56edd8a590e1 <unknown>\n#11 0x56edd8a70372 <unknown>\n#12 0x56edd8a3d1bf <unknown>\n#13 0x56edd8a94488 <unknown>\n#14 0x56edd8a94683 <unknown>\n#15 0x56edd8aa5044 <unknown>\n#16 0x7fc47e36cac3 <unknown>\n",
     "traceback": [
      "\u001B[0;31m---------------------------------------------------------------------------\u001B[0m",
      "\u001B[0;31mSessionNotCreatedException\u001B[0m                Traceback (most recent call last)",
      "\u001B[0;32m<ipython-input-15-1d3772ebb894>\u001B[0m in \u001B[0;36m<cell line: 3>\u001B[0;34m()\u001B[0m\n\u001B[1;32m      1\u001B[0m \u001B[0;32mfrom\u001B[0m \u001B[0mselenium\u001B[0m \u001B[0;32mimport\u001B[0m \u001B[0mwebdriver\u001B[0m\u001B[0;34m\u001B[0m\u001B[0;34m\u001B[0m\u001B[0m\n\u001B[1;32m      2\u001B[0m \u001B[0;34m\u001B[0m\u001B[0m\n\u001B[0;32m----> 3\u001B[0;31m \u001B[0mdriver\u001B[0m\u001B[0;34m=\u001B[0m\u001B[0mwebdriver\u001B[0m\u001B[0;34m.\u001B[0m\u001B[0mChrome\u001B[0m\u001B[0;34m(\u001B[0m\u001B[0;34m)\u001B[0m\u001B[0;34m\u001B[0m\u001B[0;34m\u001B[0m\u001B[0m\n\u001B[0m",
      "\u001B[0;32m/usr/local/lib/python3.10/dist-packages/selenium/webdriver/chrome/webdriver.py\u001B[0m in \u001B[0;36m__init__\u001B[0;34m(self, options, service, keep_alive)\u001B[0m\n\u001B[1;32m     43\u001B[0m         \u001B[0moptions\u001B[0m \u001B[0;34m=\u001B[0m \u001B[0moptions\u001B[0m \u001B[0;32mif\u001B[0m \u001B[0moptions\u001B[0m \u001B[0;32melse\u001B[0m \u001B[0mOptions\u001B[0m\u001B[0;34m(\u001B[0m\u001B[0;34m)\u001B[0m\u001B[0;34m\u001B[0m\u001B[0;34m\u001B[0m\u001B[0m\n\u001B[1;32m     44\u001B[0m \u001B[0;34m\u001B[0m\u001B[0m\n\u001B[0;32m---> 45\u001B[0;31m         super().__init__(\n\u001B[0m\u001B[1;32m     46\u001B[0m             \u001B[0mbrowser_name\u001B[0m\u001B[0;34m=\u001B[0m\u001B[0mDesiredCapabilities\u001B[0m\u001B[0;34m.\u001B[0m\u001B[0mCHROME\u001B[0m\u001B[0;34m[\u001B[0m\u001B[0;34m\"browserName\"\u001B[0m\u001B[0;34m]\u001B[0m\u001B[0;34m,\u001B[0m\u001B[0;34m\u001B[0m\u001B[0;34m\u001B[0m\u001B[0m\n\u001B[1;32m     47\u001B[0m             \u001B[0mvendor_prefix\u001B[0m\u001B[0;34m=\u001B[0m\u001B[0;34m\"goog\"\u001B[0m\u001B[0;34m,\u001B[0m\u001B[0;34m\u001B[0m\u001B[0;34m\u001B[0m\u001B[0m\n",
      "\u001B[0;32m/usr/local/lib/python3.10/dist-packages/selenium/webdriver/chromium/webdriver.py\u001B[0m in \u001B[0;36m__init__\u001B[0;34m(self, browser_name, vendor_prefix, options, service, keep_alive)\u001B[0m\n\u001B[1;32m     59\u001B[0m \u001B[0;34m\u001B[0m\u001B[0m\n\u001B[1;32m     60\u001B[0m         \u001B[0;32mtry\u001B[0m\u001B[0;34m:\u001B[0m\u001B[0;34m\u001B[0m\u001B[0;34m\u001B[0m\u001B[0m\n\u001B[0;32m---> 61\u001B[0;31m             \u001B[0msuper\u001B[0m\u001B[0;34m(\u001B[0m\u001B[0;34m)\u001B[0m\u001B[0;34m.\u001B[0m\u001B[0m__init__\u001B[0m\u001B[0;34m(\u001B[0m\u001B[0mcommand_executor\u001B[0m\u001B[0;34m=\u001B[0m\u001B[0mexecutor\u001B[0m\u001B[0;34m,\u001B[0m \u001B[0moptions\u001B[0m\u001B[0;34m=\u001B[0m\u001B[0moptions\u001B[0m\u001B[0;34m)\u001B[0m\u001B[0;34m\u001B[0m\u001B[0;34m\u001B[0m\u001B[0m\n\u001B[0m\u001B[1;32m     62\u001B[0m         \u001B[0;32mexcept\u001B[0m \u001B[0mException\u001B[0m\u001B[0;34m:\u001B[0m\u001B[0;34m\u001B[0m\u001B[0;34m\u001B[0m\u001B[0m\n\u001B[1;32m     63\u001B[0m             \u001B[0mself\u001B[0m\u001B[0;34m.\u001B[0m\u001B[0mquit\u001B[0m\u001B[0;34m(\u001B[0m\u001B[0;34m)\u001B[0m\u001B[0;34m\u001B[0m\u001B[0;34m\u001B[0m\u001B[0m\n",
      "\u001B[0;32m/usr/local/lib/python3.10/dist-packages/selenium/webdriver/remote/webdriver.py\u001B[0m in \u001B[0;36m__init__\u001B[0;34m(self, command_executor, keep_alive, file_detector, options)\u001B[0m\n\u001B[1;32m    206\u001B[0m         \u001B[0mself\u001B[0m\u001B[0;34m.\u001B[0m\u001B[0m_authenticator_id\u001B[0m \u001B[0;34m=\u001B[0m \u001B[0;32mNone\u001B[0m\u001B[0;34m\u001B[0m\u001B[0;34m\u001B[0m\u001B[0m\n\u001B[1;32m    207\u001B[0m         \u001B[0mself\u001B[0m\u001B[0;34m.\u001B[0m\u001B[0mstart_client\u001B[0m\u001B[0;34m(\u001B[0m\u001B[0;34m)\u001B[0m\u001B[0;34m\u001B[0m\u001B[0;34m\u001B[0m\u001B[0m\n\u001B[0;32m--> 208\u001B[0;31m         \u001B[0mself\u001B[0m\u001B[0;34m.\u001B[0m\u001B[0mstart_session\u001B[0m\u001B[0;34m(\u001B[0m\u001B[0mcapabilities\u001B[0m\u001B[0;34m)\u001B[0m\u001B[0;34m\u001B[0m\u001B[0;34m\u001B[0m\u001B[0m\n\u001B[0m\u001B[1;32m    209\u001B[0m \u001B[0;34m\u001B[0m\u001B[0m\n\u001B[1;32m    210\u001B[0m     \u001B[0;32mdef\u001B[0m \u001B[0m__repr__\u001B[0m\u001B[0;34m(\u001B[0m\u001B[0mself\u001B[0m\u001B[0;34m)\u001B[0m\u001B[0;34m:\u001B[0m\u001B[0;34m\u001B[0m\u001B[0;34m\u001B[0m\u001B[0m\n",
      "\u001B[0;32m/usr/local/lib/python3.10/dist-packages/selenium/webdriver/remote/webdriver.py\u001B[0m in \u001B[0;36mstart_session\u001B[0;34m(self, capabilities)\u001B[0m\n\u001B[1;32m    290\u001B[0m \u001B[0;34m\u001B[0m\u001B[0m\n\u001B[1;32m    291\u001B[0m         \u001B[0mcaps\u001B[0m \u001B[0;34m=\u001B[0m \u001B[0m_create_caps\u001B[0m\u001B[0;34m(\u001B[0m\u001B[0mcapabilities\u001B[0m\u001B[0;34m)\u001B[0m\u001B[0;34m\u001B[0m\u001B[0;34m\u001B[0m\u001B[0m\n\u001B[0;32m--> 292\u001B[0;31m         \u001B[0mresponse\u001B[0m \u001B[0;34m=\u001B[0m \u001B[0mself\u001B[0m\u001B[0;34m.\u001B[0m\u001B[0mexecute\u001B[0m\u001B[0;34m(\u001B[0m\u001B[0mCommand\u001B[0m\u001B[0;34m.\u001B[0m\u001B[0mNEW_SESSION\u001B[0m\u001B[0;34m,\u001B[0m \u001B[0mcaps\u001B[0m\u001B[0;34m)\u001B[0m\u001B[0;34m[\u001B[0m\u001B[0;34m\"value\"\u001B[0m\u001B[0;34m]\u001B[0m\u001B[0;34m\u001B[0m\u001B[0;34m\u001B[0m\u001B[0m\n\u001B[0m\u001B[1;32m    293\u001B[0m         \u001B[0mself\u001B[0m\u001B[0;34m.\u001B[0m\u001B[0msession_id\u001B[0m \u001B[0;34m=\u001B[0m \u001B[0mresponse\u001B[0m\u001B[0;34m.\u001B[0m\u001B[0mget\u001B[0m\u001B[0;34m(\u001B[0m\u001B[0;34m\"sessionId\"\u001B[0m\u001B[0;34m)\u001B[0m\u001B[0;34m\u001B[0m\u001B[0;34m\u001B[0m\u001B[0m\n\u001B[1;32m    294\u001B[0m         \u001B[0mself\u001B[0m\u001B[0;34m.\u001B[0m\u001B[0mcaps\u001B[0m \u001B[0;34m=\u001B[0m \u001B[0mresponse\u001B[0m\u001B[0;34m.\u001B[0m\u001B[0mget\u001B[0m\u001B[0;34m(\u001B[0m\u001B[0;34m\"capabilities\"\u001B[0m\u001B[0;34m)\u001B[0m\u001B[0;34m\u001B[0m\u001B[0;34m\u001B[0m\u001B[0m\n",
      "\u001B[0;32m/usr/local/lib/python3.10/dist-packages/selenium/webdriver/remote/webdriver.py\u001B[0m in \u001B[0;36mexecute\u001B[0;34m(self, driver_command, params)\u001B[0m\n\u001B[1;32m    345\u001B[0m         \u001B[0mresponse\u001B[0m \u001B[0;34m=\u001B[0m \u001B[0mself\u001B[0m\u001B[0;34m.\u001B[0m\u001B[0mcommand_executor\u001B[0m\u001B[0;34m.\u001B[0m\u001B[0mexecute\u001B[0m\u001B[0;34m(\u001B[0m\u001B[0mdriver_command\u001B[0m\u001B[0;34m,\u001B[0m \u001B[0mparams\u001B[0m\u001B[0;34m)\u001B[0m\u001B[0;34m\u001B[0m\u001B[0;34m\u001B[0m\u001B[0m\n\u001B[1;32m    346\u001B[0m         \u001B[0;32mif\u001B[0m \u001B[0mresponse\u001B[0m\u001B[0;34m:\u001B[0m\u001B[0;34m\u001B[0m\u001B[0;34m\u001B[0m\u001B[0m\n\u001B[0;32m--> 347\u001B[0;31m             \u001B[0mself\u001B[0m\u001B[0;34m.\u001B[0m\u001B[0merror_handler\u001B[0m\u001B[0;34m.\u001B[0m\u001B[0mcheck_response\u001B[0m\u001B[0;34m(\u001B[0m\u001B[0mresponse\u001B[0m\u001B[0;34m)\u001B[0m\u001B[0;34m\u001B[0m\u001B[0;34m\u001B[0m\u001B[0m\n\u001B[0m\u001B[1;32m    348\u001B[0m             \u001B[0mresponse\u001B[0m\u001B[0;34m[\u001B[0m\u001B[0;34m\"value\"\u001B[0m\u001B[0;34m]\u001B[0m \u001B[0;34m=\u001B[0m \u001B[0mself\u001B[0m\u001B[0;34m.\u001B[0m\u001B[0m_unwrap_value\u001B[0m\u001B[0;34m(\u001B[0m\u001B[0mresponse\u001B[0m\u001B[0;34m.\u001B[0m\u001B[0mget\u001B[0m\u001B[0;34m(\u001B[0m\u001B[0;34m\"value\"\u001B[0m\u001B[0;34m,\u001B[0m \u001B[0;32mNone\u001B[0m\u001B[0;34m)\u001B[0m\u001B[0;34m)\u001B[0m\u001B[0;34m\u001B[0m\u001B[0;34m\u001B[0m\u001B[0m\n\u001B[1;32m    349\u001B[0m             \u001B[0;32mreturn\u001B[0m \u001B[0mresponse\u001B[0m\u001B[0;34m\u001B[0m\u001B[0;34m\u001B[0m\u001B[0m\n",
      "\u001B[0;32m/usr/local/lib/python3.10/dist-packages/selenium/webdriver/remote/errorhandler.py\u001B[0m in \u001B[0;36mcheck_response\u001B[0;34m(self, response)\u001B[0m\n\u001B[1;32m    227\u001B[0m                 \u001B[0malert_text\u001B[0m \u001B[0;34m=\u001B[0m \u001B[0mvalue\u001B[0m\u001B[0;34m[\u001B[0m\u001B[0;34m\"alert\"\u001B[0m\u001B[0;34m]\u001B[0m\u001B[0;34m.\u001B[0m\u001B[0mget\u001B[0m\u001B[0;34m(\u001B[0m\u001B[0;34m\"text\"\u001B[0m\u001B[0;34m)\u001B[0m\u001B[0;34m\u001B[0m\u001B[0;34m\u001B[0m\u001B[0m\n\u001B[1;32m    228\u001B[0m             \u001B[0;32mraise\u001B[0m \u001B[0mexception_class\u001B[0m\u001B[0;34m(\u001B[0m\u001B[0mmessage\u001B[0m\u001B[0;34m,\u001B[0m \u001B[0mscreen\u001B[0m\u001B[0;34m,\u001B[0m \u001B[0mstacktrace\u001B[0m\u001B[0;34m,\u001B[0m \u001B[0malert_text\u001B[0m\u001B[0;34m)\u001B[0m  \u001B[0;31m# type: ignore[call-arg]  # mypy is not smart enough here\u001B[0m\u001B[0;34m\u001B[0m\u001B[0;34m\u001B[0m\u001B[0m\n\u001B[0;32m--> 229\u001B[0;31m         \u001B[0;32mraise\u001B[0m \u001B[0mexception_class\u001B[0m\u001B[0;34m(\u001B[0m\u001B[0mmessage\u001B[0m\u001B[0;34m,\u001B[0m \u001B[0mscreen\u001B[0m\u001B[0;34m,\u001B[0m \u001B[0mstacktrace\u001B[0m\u001B[0;34m)\u001B[0m\u001B[0;34m\u001B[0m\u001B[0;34m\u001B[0m\u001B[0m\n\u001B[0m",
      "\u001B[0;31mSessionNotCreatedException\u001B[0m: Message: session not created: Chrome failed to start: exited normally.\n  (session not created: DevToolsActivePort file doesn't exist)\n  (The process started from chrome location /root/.cache/selenium/chrome/linux64/122.0.6261.94/chrome is no longer running, so ChromeDriver is assuming that Chrome has crashed.)\nStacktrace:\n#0 0x56edd8aa5e93 <unknown>\n#1 0x56edd879dce6 <unknown>\n#2 0x56edd87d26fa <unknown>\n#3 0x56edd87ce6ed <unknown>\n#4 0x56edd881771c <unknown>\n#5 0x56edd880ac53 <unknown>\n#6 0x56edd87dbdb3 <unknown>\n#7 0x56edd87dc77e <unknown>\n#8 0x56edd8a6b7cb <unknown>\n#9 0x56edd8a6f7e5 <unknown>\n#10 0x56edd8a590e1 <unknown>\n#11 0x56edd8a70372 <unknown>\n#12 0x56edd8a3d1bf <unknown>\n#13 0x56edd8a94488 <unknown>\n#14 0x56edd8a94683 <unknown>\n#15 0x56edd8aa5044 <unknown>\n#16 0x7fc47e36cac3 <unknown>\n"
     ]
    }
   ]
  },
  {
   "cell_type": "code",
   "source": [
    "!sortgs \"noise tolerent method\" --startyear 2022 --endyear 2024"
   ],
   "metadata": {
    "colab": {
     "base_uri": "https://localhost:8080/"
    },
    "id": "4xMUKKkrFhhq",
    "outputId": "789d543c-9d1e-4604-9a11-b969ac676d21"
   },
   "execution_count": null,
   "outputs": [
    {
     "output_type": "stream",
     "name": "stdout",
     "text": [
      "Running with the following parameters:\n",
      "Keyword: noise tolerent method, Number of results: 100, Save database: True, Path: /content, Sort by: Citations, Plot results: False, Start year: 2022, End year: 2024, Debug: False\n",
      "Loading next 10 results\n",
      "Robot checking detected, handling with selenium (if installed)\n",
      "Loading...\n",
      "No success. The following error was raised:\n",
      "WebDriver.__init__() got an unexpected keyword argument 'chrome_options'\n",
      "Loading next 20 results\n",
      "Robot checking detected, handling with selenium (if installed)\n",
      "Loading...\n",
      "No success. The following error was raised:\n",
      "WebDriver.__init__() got an unexpected keyword argument 'chrome_options'\n",
      "Loading next 30 results\n",
      "Robot checking detected, handling with selenium (if installed)\n",
      "Loading...\n",
      "No success. The following error was raised:\n",
      "WebDriver.__init__() got an unexpected keyword argument 'chrome_options'\n",
      "Loading next 40 results\n",
      "Robot checking detected, handling with selenium (if installed)\n",
      "Loading...\n",
      "No success. The following error was raised:\n",
      "WebDriver.__init__() got an unexpected keyword argument 'chrome_options'\n",
      "Loading next 50 results\n",
      "Robot checking detected, handling with selenium (if installed)\n",
      "Loading...\n",
      "No success. The following error was raised:\n",
      "WebDriver.__init__() got an unexpected keyword argument 'chrome_options'\n",
      "Loading next 60 results\n",
      "Robot checking detected, handling with selenium (if installed)\n",
      "Loading...\n",
      "No success. The following error was raised:\n",
      "WebDriver.__init__() got an unexpected keyword argument 'chrome_options'\n",
      "Loading next 70 results\n",
      "Robot checking detected, handling with selenium (if installed)\n",
      "Loading...\n",
      "No success. The following error was raised:\n",
      "WebDriver.__init__() got an unexpected keyword argument 'chrome_options'\n",
      "Loading next 80 results\n",
      "Robot checking detected, handling with selenium (if installed)\n",
      "Loading...\n",
      "No success. The following error was raised:\n",
      "WebDriver.__init__() got an unexpected keyword argument 'chrome_options'\n",
      "Loading next 90 results\n",
      "Robot checking detected, handling with selenium (if installed)\n",
      "Loading...\n",
      "No success. The following error was raised:\n",
      "WebDriver.__init__() got an unexpected keyword argument 'chrome_options'\n",
      "Loading next 100 results\n",
      "Robot checking detected, handling with selenium (if installed)\n",
      "Loading...\n",
      "No success. The following error was raised:\n",
      "WebDriver.__init__() got an unexpected keyword argument 'chrome_options'\n",
      "Empty DataFrame\n",
      "Columns: [Author, Title, Citations, Year, Publisher, Venue, Source, cit/year]\n",
      "Index: []\n",
      "Results saved to /content/noise_tolerent_method.csv\n"
     ]
    }
   ]
  },
  {
   "cell_type": "markdown",
   "source": [
    "## 3. Topic Modeling"
   ],
   "metadata": {
    "id": "PS3W6zO2J2sk"
   }
  },
  {
   "cell_type": "markdown",
   "source": [
    "To aid the overall understanding of the field of Data Quality Evaluation Metrics, we first conduct an extensive literature review, resulting in 43 relevant publications chosen. We used the following keywords in our literature review:\n",
    "\n",
    "Data Quality Assessment, Data Quality Framework, Data Quality Models, Data Quality Dimensions, Data Quality Measurement, Data Quality Criteria, Data Quality in AI/ML, Data Quality in Big Data, Data Validation Methods, Data Quality Tools, Data Profiling, Data Consistency, Data Accuracy, Data Completeness, Data Timeliness, Data Fairness, Data Quality Standards, Data Quality Best Practices, Data Provenance, Data Diversity,\n",
    "\n",
    "While it is possible to identify some strong topics, it is still quite challenging to identify the strongest subtopics within the literature pool. Next we will implement a topic modeling analysis with LDA (Latent Dirichlet Allocation) to aid our qualitative assessment of the papers. We will then combine both methodologies to identify the strongest subtopics within our literature review. We will then select one of these topics as a main focus for the rest of this research paper.For now we will use the title, abstract and listed keywords to conduct our topic analysis."
   ],
   "metadata": {
    "id": "Fz8LLjQsJ3Cc"
   }
  },
  {
   "cell_type": "markdown",
   "source": [
    "### 3.1 Imports & loading of data"
   ],
   "metadata": {
    "id": "5C8hRDO6cTim"
   }
  },
  {
   "cell_type": "code",
   "source": [
    "from google.colab import drive\n",
    "drive.mount('/content/drive')"
   ],
   "metadata": {
    "colab": {
     "base_uri": "https://localhost:8080/"
    },
    "id": "f9UwRMvkMOx1",
    "outputId": "6dde3d8c-5c7f-4f51-be54-44d5da575547"
   },
   "execution_count": null,
   "outputs": [
    {
     "output_type": "stream",
     "name": "stdout",
     "text": [
      "Mounted at /content/drive\n"
     ]
    }
   ]
  },
  {
   "cell_type": "code",
   "source": [
    "import pandas as pd\n",
    "import nltk\n",
    "from nltk.corpus import stopwords\n",
    "from nltk.tokenize import word_tokenize\n",
    "from nltk.stem import WordNetLemmatizer\n",
    "from gensim import corpora\n",
    "from gensim.models.ldamodel import LdaModel\n",
    "from gensim.models import CoherenceModel\n",
    "import matplotlib.pyplot as plt\n",
    "from sklearn.feature_extraction.text import CountVectorizer\n",
    "from sklearn.decomposition import LatentDirichletAllocation\n",
    "import string\n",
    "import spacy\n",
    "import gensim\n",
    "from gensim.utils import simple_preprocess\n",
    "import matplotlib.pyplot as plt\n",
    "from gensim.models import TfidfModel\n",
    "import gensim.corpora as corpora\n",
    "import numpy as np\n",
    "\n",
    "import tensorflow as tf\n",
    "import numpy as np\n",
    "import pandas as pd\n",
    "\n",
    "from tensorflow.keras import layers, models\n",
    "from tensorflow.keras.datasets import cifar10\n",
    "from tensorflow.keras.utils import to_categorical\n",
    "\n",
    "from pprint import pprint\n",
    "\n",
    "import warnings\n",
    "warnings.filterwarnings('ignore')"
   ],
   "metadata": {
    "id": "zzP8FGBML_Fr"
   },
   "execution_count": null,
   "outputs": []
  },
  {
   "cell_type": "code",
   "source": [
    "# Loading of dataset\n",
    "first_dataset = pd.read_csv('/content/drive/MyDrive/Topic_CSV.csv')\n",
    "second_dataset = pd.read_csv('/content/drive/MyDrive/Topic2_CSV.csv')\n",
    "data_papers = pd.concat([first_dataset, second_dataset], ignore_index=True, sort=False)\n",
    "data_papers.head(3)"
   ],
   "metadata": {
    "colab": {
     "base_uri": "https://localhost:8080/",
     "height": 143
    },
    "id": "cVCkYNgFL_zF",
    "outputId": "d0bb3beb-bede-4dbb-91a3-b6b94efa59e8"
   },
   "execution_count": null,
   "outputs": [
    {
     "output_type": "execute_result",
     "data": {
      "text/plain": [
       "                                               Title  \\\n",
       "0  Proactively Screening Machine Learning Pipelin...   \n",
       "1  Demystifying Artificial Intelligence for Data ...   \n",
       "2    Data Cleaning: Overview and Emerging Challenges   \n",
       "\n",
       "                                            Abstract  \\\n",
       "0  Software systems that learn from data with mac...   \n",
       "1  Data preparation -- the process of discovering...   \n",
       "2  Detecting and repairing dirty data is one of t...   \n",
       "\n",
       "                                            Keywords  \n",
       "0  provenance tracking, data validation, machine ...  \n",
       "1  artificial intelligence, data preparation, fou...  \n",
       "2  data cleaning, statistical cleaning, integrity...  "
      ],
      "text/html": [
       "\n",
       "  <div id=\"df-afcc593c-3eff-4d43-aa55-544836832931\" class=\"colab-df-container\">\n",
       "    <div>\n",
       "<style scoped>\n",
       "    .dataframe tbody tr th:only-of-type {\n",
       "        vertical-align: middle;\n",
       "    }\n",
       "\n",
       "    .dataframe tbody tr th {\n",
       "        vertical-align: top;\n",
       "    }\n",
       "\n",
       "    .dataframe thead th {\n",
       "        text-align: right;\n",
       "    }\n",
       "</style>\n",
       "<table border=\"1\" class=\"dataframe\">\n",
       "  <thead>\n",
       "    <tr style=\"text-align: right;\">\n",
       "      <th></th>\n",
       "      <th>Title</th>\n",
       "      <th>Abstract</th>\n",
       "      <th>Keywords</th>\n",
       "    </tr>\n",
       "  </thead>\n",
       "  <tbody>\n",
       "    <tr>\n",
       "      <th>0</th>\n",
       "      <td>Proactively Screening Machine Learning Pipelin...</td>\n",
       "      <td>Software systems that learn from data with mac...</td>\n",
       "      <td>provenance tracking, data validation, machine ...</td>\n",
       "    </tr>\n",
       "    <tr>\n",
       "      <th>1</th>\n",
       "      <td>Demystifying Artificial Intelligence for Data ...</td>\n",
       "      <td>Data preparation -- the process of discovering...</td>\n",
       "      <td>artificial intelligence, data preparation, fou...</td>\n",
       "    </tr>\n",
       "    <tr>\n",
       "      <th>2</th>\n",
       "      <td>Data Cleaning: Overview and Emerging Challenges</td>\n",
       "      <td>Detecting and repairing dirty data is one of t...</td>\n",
       "      <td>data cleaning, statistical cleaning, integrity...</td>\n",
       "    </tr>\n",
       "  </tbody>\n",
       "</table>\n",
       "</div>\n",
       "    <div class=\"colab-df-buttons\">\n",
       "\n",
       "  <div class=\"colab-df-container\">\n",
       "    <button class=\"colab-df-convert\" onclick=\"convertToInteractive('df-afcc593c-3eff-4d43-aa55-544836832931')\"\n",
       "            title=\"Convert this dataframe to an interactive table.\"\n",
       "            style=\"display:none;\">\n",
       "\n",
       "  <svg xmlns=\"http://www.w3.org/2000/svg\" height=\"24px\" viewBox=\"0 -960 960 960\">\n",
       "    <path d=\"M120-120v-720h720v720H120Zm60-500h600v-160H180v160Zm220 220h160v-160H400v160Zm0 220h160v-160H400v160ZM180-400h160v-160H180v160Zm440 0h160v-160H620v160ZM180-180h160v-160H180v160Zm440 0h160v-160H620v160Z\"/>\n",
       "  </svg>\n",
       "    </button>\n",
       "\n",
       "  <style>\n",
       "    .colab-df-container {\n",
       "      display:flex;\n",
       "      gap: 12px;\n",
       "    }\n",
       "\n",
       "    .colab-df-convert {\n",
       "      background-color: #E8F0FE;\n",
       "      border: none;\n",
       "      border-radius: 50%;\n",
       "      cursor: pointer;\n",
       "      display: none;\n",
       "      fill: #1967D2;\n",
       "      height: 32px;\n",
       "      padding: 0 0 0 0;\n",
       "      width: 32px;\n",
       "    }\n",
       "\n",
       "    .colab-df-convert:hover {\n",
       "      background-color: #E2EBFA;\n",
       "      box-shadow: 0px 1px 2px rgba(60, 64, 67, 0.3), 0px 1px 3px 1px rgba(60, 64, 67, 0.15);\n",
       "      fill: #174EA6;\n",
       "    }\n",
       "\n",
       "    .colab-df-buttons div {\n",
       "      margin-bottom: 4px;\n",
       "    }\n",
       "\n",
       "    [theme=dark] .colab-df-convert {\n",
       "      background-color: #3B4455;\n",
       "      fill: #D2E3FC;\n",
       "    }\n",
       "\n",
       "    [theme=dark] .colab-df-convert:hover {\n",
       "      background-color: #434B5C;\n",
       "      box-shadow: 0px 1px 3px 1px rgba(0, 0, 0, 0.15);\n",
       "      filter: drop-shadow(0px 1px 2px rgba(0, 0, 0, 0.3));\n",
       "      fill: #FFFFFF;\n",
       "    }\n",
       "  </style>\n",
       "\n",
       "    <script>\n",
       "      const buttonEl =\n",
       "        document.querySelector('#df-afcc593c-3eff-4d43-aa55-544836832931 button.colab-df-convert');\n",
       "      buttonEl.style.display =\n",
       "        google.colab.kernel.accessAllowed ? 'block' : 'none';\n",
       "\n",
       "      async function convertToInteractive(key) {\n",
       "        const element = document.querySelector('#df-afcc593c-3eff-4d43-aa55-544836832931');\n",
       "        const dataTable =\n",
       "          await google.colab.kernel.invokeFunction('convertToInteractive',\n",
       "                                                    [key], {});\n",
       "        if (!dataTable) return;\n",
       "\n",
       "        const docLinkHtml = 'Like what you see? Visit the ' +\n",
       "          '<a target=\"_blank\" href=https://colab.research.google.com/notebooks/data_table.ipynb>data table notebook</a>'\n",
       "          + ' to learn more about interactive tables.';\n",
       "        element.innerHTML = '';\n",
       "        dataTable['output_type'] = 'display_data';\n",
       "        await google.colab.output.renderOutput(dataTable, element);\n",
       "        const docLink = document.createElement('div');\n",
       "        docLink.innerHTML = docLinkHtml;\n",
       "        element.appendChild(docLink);\n",
       "      }\n",
       "    </script>\n",
       "  </div>\n",
       "\n",
       "\n",
       "<div id=\"df-cc2fcc01-869c-4ad2-b463-0d6d5e35a2a4\">\n",
       "  <button class=\"colab-df-quickchart\" onclick=\"quickchart('df-cc2fcc01-869c-4ad2-b463-0d6d5e35a2a4')\"\n",
       "            title=\"Suggest charts\"\n",
       "            style=\"display:none;\">\n",
       "\n",
       "<svg xmlns=\"http://www.w3.org/2000/svg\" height=\"24px\"viewBox=\"0 0 24 24\"\n",
       "     width=\"24px\">\n",
       "    <g>\n",
       "        <path d=\"M19 3H5c-1.1 0-2 .9-2 2v14c0 1.1.9 2 2 2h14c1.1 0 2-.9 2-2V5c0-1.1-.9-2-2-2zM9 17H7v-7h2v7zm4 0h-2V7h2v10zm4 0h-2v-4h2v4z\"/>\n",
       "    </g>\n",
       "</svg>\n",
       "  </button>\n",
       "\n",
       "<style>\n",
       "  .colab-df-quickchart {\n",
       "      --bg-color: #E8F0FE;\n",
       "      --fill-color: #1967D2;\n",
       "      --hover-bg-color: #E2EBFA;\n",
       "      --hover-fill-color: #174EA6;\n",
       "      --disabled-fill-color: #AAA;\n",
       "      --disabled-bg-color: #DDD;\n",
       "  }\n",
       "\n",
       "  [theme=dark] .colab-df-quickchart {\n",
       "      --bg-color: #3B4455;\n",
       "      --fill-color: #D2E3FC;\n",
       "      --hover-bg-color: #434B5C;\n",
       "      --hover-fill-color: #FFFFFF;\n",
       "      --disabled-bg-color: #3B4455;\n",
       "      --disabled-fill-color: #666;\n",
       "  }\n",
       "\n",
       "  .colab-df-quickchart {\n",
       "    background-color: var(--bg-color);\n",
       "    border: none;\n",
       "    border-radius: 50%;\n",
       "    cursor: pointer;\n",
       "    display: none;\n",
       "    fill: var(--fill-color);\n",
       "    height: 32px;\n",
       "    padding: 0;\n",
       "    width: 32px;\n",
       "  }\n",
       "\n",
       "  .colab-df-quickchart:hover {\n",
       "    background-color: var(--hover-bg-color);\n",
       "    box-shadow: 0 1px 2px rgba(60, 64, 67, 0.3), 0 1px 3px 1px rgba(60, 64, 67, 0.15);\n",
       "    fill: var(--button-hover-fill-color);\n",
       "  }\n",
       "\n",
       "  .colab-df-quickchart-complete:disabled,\n",
       "  .colab-df-quickchart-complete:disabled:hover {\n",
       "    background-color: var(--disabled-bg-color);\n",
       "    fill: var(--disabled-fill-color);\n",
       "    box-shadow: none;\n",
       "  }\n",
       "\n",
       "  .colab-df-spinner {\n",
       "    border: 2px solid var(--fill-color);\n",
       "    border-color: transparent;\n",
       "    border-bottom-color: var(--fill-color);\n",
       "    animation:\n",
       "      spin 1s steps(1) infinite;\n",
       "  }\n",
       "\n",
       "  @keyframes spin {\n",
       "    0% {\n",
       "      border-color: transparent;\n",
       "      border-bottom-color: var(--fill-color);\n",
       "      border-left-color: var(--fill-color);\n",
       "    }\n",
       "    20% {\n",
       "      border-color: transparent;\n",
       "      border-left-color: var(--fill-color);\n",
       "      border-top-color: var(--fill-color);\n",
       "    }\n",
       "    30% {\n",
       "      border-color: transparent;\n",
       "      border-left-color: var(--fill-color);\n",
       "      border-top-color: var(--fill-color);\n",
       "      border-right-color: var(--fill-color);\n",
       "    }\n",
       "    40% {\n",
       "      border-color: transparent;\n",
       "      border-right-color: var(--fill-color);\n",
       "      border-top-color: var(--fill-color);\n",
       "    }\n",
       "    60% {\n",
       "      border-color: transparent;\n",
       "      border-right-color: var(--fill-color);\n",
       "    }\n",
       "    80% {\n",
       "      border-color: transparent;\n",
       "      border-right-color: var(--fill-color);\n",
       "      border-bottom-color: var(--fill-color);\n",
       "    }\n",
       "    90% {\n",
       "      border-color: transparent;\n",
       "      border-bottom-color: var(--fill-color);\n",
       "    }\n",
       "  }\n",
       "</style>\n",
       "\n",
       "  <script>\n",
       "    async function quickchart(key) {\n",
       "      const quickchartButtonEl =\n",
       "        document.querySelector('#' + key + ' button');\n",
       "      quickchartButtonEl.disabled = true;  // To prevent multiple clicks.\n",
       "      quickchartButtonEl.classList.add('colab-df-spinner');\n",
       "      try {\n",
       "        const charts = await google.colab.kernel.invokeFunction(\n",
       "            'suggestCharts', [key], {});\n",
       "      } catch (error) {\n",
       "        console.error('Error during call to suggestCharts:', error);\n",
       "      }\n",
       "      quickchartButtonEl.classList.remove('colab-df-spinner');\n",
       "      quickchartButtonEl.classList.add('colab-df-quickchart-complete');\n",
       "    }\n",
       "    (() => {\n",
       "      let quickchartButtonEl =\n",
       "        document.querySelector('#df-cc2fcc01-869c-4ad2-b463-0d6d5e35a2a4 button');\n",
       "      quickchartButtonEl.style.display =\n",
       "        google.colab.kernel.accessAllowed ? 'block' : 'none';\n",
       "    })();\n",
       "  </script>\n",
       "</div>\n",
       "    </div>\n",
       "  </div>\n"
      ]
     },
     "metadata": {},
     "execution_count": 4
    }
   ]
  },
  {
   "cell_type": "code",
   "source": [
    "# Dropping duplicates\n",
    "data_papers = data_papers.drop_duplicates()\n",
    "# Dropping instance that is identical to another, but had different keywords\n",
    "data_papers = data_papers.drop([46])\n",
    "data_papers.info()"
   ],
   "metadata": {
    "colab": {
     "base_uri": "https://localhost:8080/"
    },
    "id": "ZLoEW3TbMA5P",
    "outputId": "3dd1a7f7-9651-4e65-ccf4-b0d9ca07c09b"
   },
   "execution_count": null,
   "outputs": [
    {
     "output_type": "stream",
     "name": "stdout",
     "text": [
      "<class 'pandas.core.frame.DataFrame'>\n",
      "Int64Index: 43 entries, 0 to 51\n",
      "Data columns (total 3 columns):\n",
      " #   Column    Non-Null Count  Dtype \n",
      "---  ------    --------------  ----- \n",
      " 0   Title     43 non-null     object\n",
      " 1   Abstract  42 non-null     object\n",
      " 2   Keywords  35 non-null     object\n",
      "dtypes: object(3)\n",
      "memory usage: 1.3+ KB\n"
     ]
    }
   ]
  },
  {
   "cell_type": "code",
   "source": [
    "data_papers.to_csv('/content/drive/MyDrive/Topic_CSV_final.csv')"
   ],
   "metadata": {
    "id": "DoSJP0aCh4FN"
   },
   "execution_count": null,
   "outputs": []
  },
  {
   "cell_type": "code",
   "source": [
    "full_texts = pd.read_csv('/content/drive/MyDrive/Full_texts_2.csv',sep=';')"
   ],
   "metadata": {
    "id": "9XttUgrwiYZK"
   },
   "execution_count": null,
   "outputs": []
  },
  {
   "cell_type": "code",
   "source": [
    "search_string = \"dqd\"\n",
    "filtered = full_texts['Full_Text'][full_texts['Full_Text'].str.contains(search_string, case=False, na=False)]\n",
    "filtered"
   ],
   "metadata": {
    "colab": {
     "base_uri": "https://localhost:8080/"
    },
    "id": "YRvk8-dFRVg2",
    "outputId": "5c44ff99-a8fd-4280-cf34-c6cf56da9333"
   },
   "execution_count": null,
   "outputs": [
    {
     "output_type": "execute_result",
     "data": {
      "text/plain": [
       "31    I. INTRODUCTION The purpose of customer relati...\n",
       "Name: Full_Text, dtype: object"
      ]
     },
     "metadata": {},
     "execution_count": 24
    }
   ]
  },
  {
   "cell_type": "code",
   "source": [
    "full_texts.loc[31]"
   ],
   "metadata": {
    "colab": {
     "base_uri": "https://localhost:8080/"
    },
    "id": "cPsYyJe9SYIs",
    "outputId": "fe329cb5-1c0e-4b7c-d4b8-26c4a2b536b6"
   },
   "execution_count": null,
   "outputs": [
    {
     "output_type": "execute_result",
     "data": {
      "text/plain": [
       "Title        Exploring the Impact of Data Quality on Busine...\n",
       "Full_Text    I. INTRODUCTION The purpose of customer relati...\n",
       "Name: 31, dtype: object"
      ]
     },
     "metadata": {},
     "execution_count": 25
    }
   ]
  },
  {
   "cell_type": "markdown",
   "source": [
    "### 3.2 Preprocessing"
   ],
   "metadata": {
    "id": "dyvTTSUuM8A5"
   }
  },
  {
   "cell_type": "code",
   "source": [
    "data_papers = data_papers.reset_index(drop=True)"
   ],
   "metadata": {
    "id": "rLchM1AYJcan"
   },
   "execution_count": null,
   "outputs": []
  },
  {
   "cell_type": "code",
   "source": [
    "papers_2 = data_papers['Title'].fillna('') + data_papers['Abstract'].fillna('') + data_papers['Keywords'].fillna('') + full_texts['Full_Text'].fillna('')\n",
    "\n",
    "def sent_to_words(sentences):\n",
    "    for sentence in sentences:\n",
    "        yield(gensim.utils.simple_preprocess(str(sentence), deacc=True))  # deacc=True removes punctuations\n",
    "\n",
    "data_2 = papers_2.values.tolist()\n",
    "data_words_2 = list(sent_to_words(data_2))"
   ],
   "metadata": {
    "id": "MZK2ggeiMCJP"
   },
   "execution_count": null,
   "outputs": []
  },
  {
   "cell_type": "code",
   "source": [
    "# Creating bigram phrases\n",
    "bigram_2 = gensim.models.Phrases(data_words_2, min_count=5, threshold=100)\n",
    "bigram_mod_2 = gensim.models.phrases.Phraser(bigram_2)\n",
    "\n",
    "# Creating trigram phrases --> This is not utilized right now!\n",
    "trigram_2 = gensim.models.Phrases(bigram_2[data_words_2], threshold=100)\n",
    "trigram_mod_2 = gensim.models.phrases.Phraser(trigram_2)"
   ],
   "metadata": {
    "id": "QtTDdvvNMCpQ"
   },
   "execution_count": null,
   "outputs": []
  },
  {
   "cell_type": "code",
   "source": [
    "nltk.download('stopwords')"
   ],
   "metadata": {
    "colab": {
     "base_uri": "https://localhost:8080/"
    },
    "id": "L6iiy0xaMDjK",
    "outputId": "8d6de624-5429-4e0c-80f6-ab5c210d93b9"
   },
   "execution_count": null,
   "outputs": [
    {
     "output_type": "stream",
     "name": "stderr",
     "text": [
      "[nltk_data] Downloading package stopwords to /root/nltk_data...\n",
      "[nltk_data]   Unzipping corpora/stopwords.zip.\n"
     ]
    },
    {
     "output_type": "execute_result",
     "data": {
      "text/plain": [
       "True"
      ]
     },
     "metadata": {},
     "execution_count": 12
    }
   ]
  },
  {
   "cell_type": "code",
   "source": [
    "# Extending stopwords list here! --> These were identified in previous iterations of topic modeling\n",
    "stop_words = stopwords.words('english')\n",
    "stop_words.extend(['from', 'subject', 're', 'edu', 'use'])\n",
    "stop_words.extend(['datum','data','maintain','also','make'])\n",
    "stop_words.extend(['part','rent','programming','orchestrate','non','issue',''])"
   ],
   "metadata": {
    "id": "Fa37KcY1MDYQ"
   },
   "execution_count": null,
   "outputs": []
  },
  {
   "cell_type": "code",
   "source": [
    "def lemmatization(texts, allowed_postags=['NOUN', 'ADJ', 'VERB', 'ADV']):\n",
    "    \"\"\"https://spacy.io/api/annotation\"\"\"\n",
    "    texts_out = []\n",
    "    for sent in texts:\n",
    "        doc = nlp(\" \".join(sent))\n",
    "        texts_out.append([token.lemma_ for token in doc if token.pos_ in allowed_postags])\n",
    "    return texts_out\n",
    "\n",
    "def remove_stopwords(texts):\n",
    "    return [[word for word in simple_preprocess(str(doc)) if word not in stop_words] for doc in texts]\n",
    "\n",
    "def make_bigrams_2(texts):\n",
    "    return [bigram_mod_2[doc] for doc in texts]\n",
    "\n",
    "def make_trigrams_2(texts):\n",
    "    return [trigram_mod_2[bigram_mod_2[doc]] for doc in texts]"
   ],
   "metadata": {
    "id": "IxyxdZWQMDqW"
   },
   "execution_count": null,
   "outputs": []
  },
  {
   "cell_type": "code",
   "source": [
    "# Remove Stop Words\n",
    "data_words_nostops_2 = remove_stopwords(data_words_2)\n",
    "\n",
    "# Form Bigrams\n",
    "data_words_bigrams_2 = make_bigrams_2(data_words_nostops_2)\n",
    "\n",
    "# Initialize spacy 'en' model, keeping only tagger component (for efficiency)\n",
    "nlp = spacy.load(\"en_core_web_sm\", disable=['parser', 'ner'])\n",
    "\n",
    "# Do lemmatization keeping only noun, adj, vb, adv\n",
    "data_lemmatized_2 = lemmatization(data_words_bigrams_2, allowed_postags=['NOUN', 'ADJ', 'VERB', 'ADV'])"
   ],
   "metadata": {
    "id": "xkmnBo2cMDxS"
   },
   "execution_count": null,
   "outputs": []
  },
  {
   "cell_type": "code",
   "source": [
    "# Create Dictionary\n",
    "id2word_2 = corpora.Dictionary(data_lemmatized_2)\n",
    "\n",
    "# Create Corpus\n",
    "texts_2 = data_lemmatized_2\n",
    "\n",
    "# Term Document Frequency\n",
    "corpus_2 = [id2word_2.doc2bow(text) for text in texts_2]\n",
    "\n",
    "tfidf_model = TfidfModel(corpus_2)\n",
    "corpus_2 = tfidf_model[corpus_2]"
   ],
   "metadata": {
    "id": "FeF7BY_tMD3o"
   },
   "execution_count": null,
   "outputs": []
  },
  {
   "cell_type": "code",
   "source": [
    "# Function that calculates coherence score for each LDA depending on n number of topics\n",
    "def elbow_method_2(n):\n",
    "\n",
    "    lda_model_2 = gensim.models.LdaMulticore(corpus=corpus_2,\n",
    "                                       id2word=id2word_2,\n",
    "                                       num_topics=n,\n",
    "                                       random_state=100,\n",
    "                                       chunksize=100,\n",
    "                                       passes=10,\n",
    "                                       per_word_topics=True)\n",
    "\n",
    "    coherence_model_lda_2 = CoherenceModel(model=lda_model_2, texts=data_lemmatized_2, dictionary=id2word_2, coherence='c_v')\n",
    "    coherence_lda_2 = coherence_model_lda_2.get_coherence()\n",
    "\n",
    "    return coherence_lda_2"
   ],
   "metadata": {
    "id": "TbyvjcCZMD9p"
   },
   "execution_count": null,
   "outputs": []
  },
  {
   "cell_type": "code",
   "source": [
    "# Define possible number of topics to iterate through\n",
    "n_topics = [2,3,4,5,6,7,8,9,10,11]\n",
    "\n",
    "\n",
    "scores = {}\n",
    "\n",
    "for topics in n_topics:\n",
    "    scores[topics] = elbow_method_2(topics)\n",
    "    print(f'LDA for {topics} topics computed')\n",
    "\n",
    "plt.plot(scores.keys(),list(scores.values()))"
   ],
   "metadata": {
    "colab": {
     "base_uri": "https://localhost:8080/",
     "height": 621
    },
    "id": "bqIFiBgUMED1",
    "outputId": "847a4cfd-19ae-4639-9ccf-546f2bb45c91"
   },
   "execution_count": null,
   "outputs": [
    {
     "output_type": "stream",
     "name": "stdout",
     "text": [
      "LDA for 2 topics computed\n",
      "LDA for 3 topics computed\n",
      "LDA for 4 topics computed\n",
      "LDA for 5 topics computed\n",
      "LDA for 6 topics computed\n",
      "LDA for 7 topics computed\n",
      "LDA for 8 topics computed\n",
      "LDA for 9 topics computed\n",
      "LDA for 10 topics computed\n",
      "LDA for 11 topics computed\n"
     ]
    },
    {
     "output_type": "execute_result",
     "data": {
      "text/plain": [
       "[<matplotlib.lines.Line2D at 0x7cad5fea4d00>]"
      ]
     },
     "metadata": {},
     "execution_count": 18
    },
    {
     "output_type": "display_data",
     "data": {
      "text/plain": [
       "<Figure size 640x480 with 1 Axes>"
      ],
      "image/png": "[encoded data removed]"
     },
     "metadata": {}
    }
   ]
  },
  {
   "cell_type": "code",
   "source": [
    "import seaborn as sns\n",
    "\n",
    "data = pd.DataFrame({'X': scores.keys(), 'Y': list(scores.values())})\n",
    "\n",
    "sns.lineplot(data=data, x='X', y='Y', linewidth=2.5, color='skyblue', marker='o')\n",
    "\n",
    "# Set titles and labels\n",
    "plt.title('Coherence Score', fontsize=16)\n",
    "plt.xlabel('n-topics', fontsize=12)\n",
    "plt.ylabel('Coherence Score', fontsize=12)"
   ],
   "metadata": {
    "colab": {
     "base_uri": "https://localhost:8080/",
     "height": 495
    },
    "id": "kLbyvXC8LeAj",
    "outputId": "764eaa95-0d47-45b6-c43b-0d8d2c075415"
   },
   "execution_count": null,
   "outputs": [
    {
     "output_type": "execute_result",
     "data": {
      "text/plain": [
       "Text(0, 0.5, 'Coherence Score')"
      ]
     },
     "metadata": {},
     "execution_count": 19
    },
    {
     "output_type": "display_data",
     "data": {
      "text/plain": [
       "<Figure size 640x480 with 1 Axes>"
      ],
      "image/png": "[encoded data removed]"
     },
     "metadata": {}
    }
   ]
  },
  {
   "cell_type": "markdown",
   "source": [
    "While our maximum coherence score is achieved with 3 topics, the coherence score for an allocation of 5 models is very similar. A summary and grouping of these 5 topics into bigger, overarching topics will be done manually. Through this, we do want to avoid missing any vital topics within our analysis."
   ],
   "metadata": {
    "id": "de_bjSWgOOJV"
   }
  },
  {
   "cell_type": "code",
   "source": [
    "scores_list = list(scores.values())\n",
    "\n",
    "n_max_score = scores_list.index(max(scores_list))+2\n",
    "\n",
    "# Custom number of topics\n",
    "# n_max_score = 5"
   ],
   "metadata": {
    "id": "zgPtUaSmMEI1"
   },
   "execution_count": null,
   "outputs": []
  },
  {
   "cell_type": "markdown",
   "source": [
    "### 3.3 Training model"
   ],
   "metadata": {
    "id": "f3VIRjHCOg64"
   }
  },
  {
   "cell_type": "code",
   "source": [
    "# Build LDA model\n",
    "lda_model_2 = gensim.models.LdaMulticore(corpus=corpus_2,\n",
    "                                       id2word=id2word_2,\n",
    "                                       num_topics=n_max_score,\n",
    "                                       random_state=100,\n",
    "                                       chunksize=100,\n",
    "                                       passes=10,\n",
    "                                       per_word_topics=True)"
   ],
   "metadata": {
    "id": "b5iDom95OkvO"
   },
   "execution_count": null,
   "outputs": []
  },
  {
   "cell_type": "code",
   "source": [
    "# Print keywords for each topic\n",
    "pprint(lda_model_2.print_topics(num_words=15))"
   ],
   "metadata": {
    "colab": {
     "base_uri": "https://localhost:8080/"
    },
    "id": "TCZg0L-vOllC",
    "outputId": "94a361df-cd3d-4c25-a35b-451ece412127"
   },
   "execution_count": null,
   "outputs": [
    {
     "output_type": "stream",
     "name": "stdout",
     "text": [
      "[(0,\n",
      "  '0.001*\"quantile\" + 0.001*\"balance_measure\" + 0.001*\"uncertainty\" + '\n",
      "  '0.000*\"nwe\" + 0.000*\"variability\" + 0.000*\"resilience\" + 0.000*\"unfairness\" '\n",
      "  '+ 0.000*\"balance\" + 0.000*\"distributed_representation\" + '\n",
      "  '0.000*\"vulnerability\" + 0.000*\"welfare\" + 0.000*\"risk\" + 0.000*\"fairness\" + '\n",
      "  '0.000*\"student\" + 0.000*\"bias\"'),\n",
      " (1,\n",
      "  '0.001*\"pipeline\" + 0.001*\"noise\" + 0.001*\"repair\" + 0.001*\"coreset\" + '\n",
      "  '0.001*\"cleaning\" + 0.001*\"clean\" + 0.001*\"label\" + 0.000*\"ontology\" + '\n",
      "  '0.000*\"training\" + 0.000*\"fairness\" + 0.000*\"protected_group\" + '\n",
      "  '0.000*\"axiom\" + 0.000*\"noisy\" + 0.000*\"cl\" + 0.000*\"rank\"'),\n",
      " (2,\n",
      "  '0.001*\"anomaly_detection\" + 0.001*\"pipeline\" + 0.001*\"lattice\" + '\n",
      "  '0.001*\"anomaly\" + 0.001*\"explanation\" + 0.000*\"query\" + 0.000*\"preparation\" '\n",
      "  '+ 0.000*\"dqd\" + 0.000*\"labeler\" + 0.000*\"label\" + 0.000*\"image\" + '\n",
      "  '0.000*\"repeated_labele\" + 0.000*\"worker\" + 0.000*\"novelty_detection\" + '\n",
      "  '0.000*\"glc\"'),\n",
      " (3,\n",
      "  '0.001*\"assessment\" + 0.001*\"fairness\" + 0.001*\"cluster\" + 0.001*\"open\" + '\n",
      "  '0.001*\"arguseye\" + 0.001*\"big\" + 0.001*\"bias\" + 0.001*\"process_mine\" + '\n",
      "  '0.000*\"bigqa\" + 0.000*\"event_log\" + 0.000*\"scientist\" + 0.000*\"quality\" + '\n",
      "  '0.000*\"pipeline\" + 0.000*\"column\" + 0.000*\"competition\"')]\n"
     ]
    }
   ]
  },
  {
   "cell_type": "code",
   "source": [
    "#Showing probability distribution of example document from our LDA model\n",
    "\n",
    "document_index = 0\n",
    "document = corpus_2[document_index]\n",
    "topic_distribution = lda_model_2.get_document_topics(document)\n",
    "\n",
    "print(f\"Topic distribution for document {document_index}:\")\n",
    "for topic, prob in topic_distribution:\n",
    "    print(f\"Topic {topic}: Probability {prob:.4f}\")\n",
    "\n",
    "topic_with_highest_prob = max(topic_distribution, key=lambda x: x[1])\n",
    "print()\n",
    "print('highest probability: ',topic_with_highest_prob[1])"
   ],
   "metadata": {
    "colab": {
     "base_uri": "https://localhost:8080/"
    },
    "id": "bQ_1H4PiOls7",
    "outputId": "651afa19-1dee-4dbf-da82-7fef8d54de23"
   },
   "execution_count": null,
   "outputs": [
    {
     "output_type": "stream",
     "name": "stdout",
     "text": [
      "Topic distribution for document 0:\n",
      "Topic 0: Probability 0.0324\n",
      "Topic 1: Probability 0.0336\n",
      "Topic 2: Probability 0.0329\n",
      "Topic 3: Probability 0.9011\n",
      "\n",
      "highest probability:  0.90107626\n"
     ]
    }
   ]
  },
  {
   "cell_type": "code",
   "source": [
    "# Allocating predicted topic to each document and the model's assessed probability that the document belongs to that respective topic\n",
    "\n",
    "allocated_topic = []\n",
    "probabilities = []\n",
    "\n",
    "for i in range(len(corpus_2)):\n",
    "    document = corpus_2[i]\n",
    "    topic_distribution = lda_model_2.get_document_topics(document)\n",
    "\n",
    "    topic_with_highest_prob = max(topic_distribution, key=lambda x: x[1])\n",
    "    allocated_topic.append(topic_with_highest_prob[0])\n",
    "    probabilities.append(topic_with_highest_prob[1])\n",
    "\n",
    "# Displaying information in new table\n",
    "\n",
    "topic_allocation = data_papers.copy()\n",
    "topic_allocation['allocated_topic'] = allocated_topic\n",
    "topic_allocation['probabilities'] = probabilities\n",
    "topic_allocation.head(2)"
   ],
   "metadata": {
    "colab": {
     "base_uri": "https://localhost:8080/",
     "height": 112
    },
    "id": "uAs8bt9XOlyi",
    "outputId": "9d325ced-ab52-4918-a6f6-b3b67b294b58"
   },
   "execution_count": null,
   "outputs": [
    {
     "output_type": "execute_result",
     "data": {
      "text/plain": [
       "                                               Title  \\\n",
       "0  Proactively Screening Machine Learning Pipelin...   \n",
       "1  Demystifying Artificial Intelligence for Data ...   \n",
       "\n",
       "                                            Abstract  \\\n",
       "0  Software systems that learn from data with mac...   \n",
       "1  Data preparation -- the process of discovering...   \n",
       "\n",
       "                                            Keywords  allocated_topic  \\\n",
       "0  provenance tracking, data validation, machine ...                3   \n",
       "1  artificial intelligence, data preparation, fou...                2   \n",
       "\n",
       "   probabilities  \n",
       "0       0.901035  \n",
       "1       0.922546  "
      ],
      "text/html": [
       "\n",
       "  <div id=\"df-2dbb6f31-a153-4c05-9887-5249358b8f7a\" class=\"colab-df-container\">\n",
       "    <div>\n",
       "<style scoped>\n",
       "    .dataframe tbody tr th:only-of-type {\n",
       "        vertical-align: middle;\n",
       "    }\n",
       "\n",
       "    .dataframe tbody tr th {\n",
       "        vertical-align: top;\n",
       "    }\n",
       "\n",
       "    .dataframe thead th {\n",
       "        text-align: right;\n",
       "    }\n",
       "</style>\n",
       "<table border=\"1\" class=\"dataframe\">\n",
       "  <thead>\n",
       "    <tr style=\"text-align: right;\">\n",
       "      <th></th>\n",
       "      <th>Title</th>\n",
       "      <th>Abstract</th>\n",
       "      <th>Keywords</th>\n",
       "      <th>allocated_topic</th>\n",
       "      <th>probabilities</th>\n",
       "    </tr>\n",
       "  </thead>\n",
       "  <tbody>\n",
       "    <tr>\n",
       "      <th>0</th>\n",
       "      <td>Proactively Screening Machine Learning Pipelin...</td>\n",
       "      <td>Software systems that learn from data with mac...</td>\n",
       "      <td>provenance tracking, data validation, machine ...</td>\n",
       "      <td>3</td>\n",
       "      <td>0.901035</td>\n",
       "    </tr>\n",
       "    <tr>\n",
       "      <th>1</th>\n",
       "      <td>Demystifying Artificial Intelligence for Data ...</td>\n",
       "      <td>Data preparation -- the process of discovering...</td>\n",
       "      <td>artificial intelligence, data preparation, fou...</td>\n",
       "      <td>2</td>\n",
       "      <td>0.922546</td>\n",
       "    </tr>\n",
       "  </tbody>\n",
       "</table>\n",
       "</div>\n",
       "    <div class=\"colab-df-buttons\">\n",
       "\n",
       "  <div class=\"colab-df-container\">\n",
       "    <button class=\"colab-df-convert\" onclick=\"convertToInteractive('df-2dbb6f31-a153-4c05-9887-5249358b8f7a')\"\n",
       "            title=\"Convert this dataframe to an interactive table.\"\n",
       "            style=\"display:none;\">\n",
       "\n",
       "  <svg xmlns=\"http://www.w3.org/2000/svg\" height=\"24px\" viewBox=\"0 -960 960 960\">\n",
       "    <path d=\"M120-120v-720h720v720H120Zm60-500h600v-160H180v160Zm220 220h160v-160H400v160Zm0 220h160v-160H400v160ZM180-400h160v-160H180v160Zm440 0h160v-160H620v160ZM180-180h160v-160H180v160Zm440 0h160v-160H620v160Z\"/>\n",
       "  </svg>\n",
       "    </button>\n",
       "\n",
       "  <style>\n",
       "    .colab-df-container {\n",
       "      display:flex;\n",
       "      gap: 12px;\n",
       "    }\n",
       "\n",
       "    .colab-df-convert {\n",
       "      background-color: #E8F0FE;\n",
       "      border: none;\n",
       "      border-radius: 50%;\n",
       "      cursor: pointer;\n",
       "      display: none;\n",
       "      fill: #1967D2;\n",
       "      height: 32px;\n",
       "      padding: 0 0 0 0;\n",
       "      width: 32px;\n",
       "    }\n",
       "\n",
       "    .colab-df-convert:hover {\n",
       "      background-color: #E2EBFA;\n",
       "      box-shadow: 0px 1px 2px rgba(60, 64, 67, 0.3), 0px 1px 3px 1px rgba(60, 64, 67, 0.15);\n",
       "      fill: #174EA6;\n",
       "    }\n",
       "\n",
       "    .colab-df-buttons div {\n",
       "      margin-bottom: 4px;\n",
       "    }\n",
       "\n",
       "    [theme=dark] .colab-df-convert {\n",
       "      background-color: #3B4455;\n",
       "      fill: #D2E3FC;\n",
       "    }\n",
       "\n",
       "    [theme=dark] .colab-df-convert:hover {\n",
       "      background-color: #434B5C;\n",
       "      box-shadow: 0px 1px 3px 1px rgba(0, 0, 0, 0.15);\n",
       "      filter: drop-shadow(0px 1px 2px rgba(0, 0, 0, 0.3));\n",
       "      fill: #FFFFFF;\n",
       "    }\n",
       "  </style>\n",
       "\n",
       "    <script>\n",
       "      const buttonEl =\n",
       "        document.querySelector('#df-2dbb6f31-a153-4c05-9887-5249358b8f7a button.colab-df-convert');\n",
       "      buttonEl.style.display =\n",
       "        google.colab.kernel.accessAllowed ? 'block' : 'none';\n",
       "\n",
       "      async function convertToInteractive(key) {\n",
       "        const element = document.querySelector('#df-2dbb6f31-a153-4c05-9887-5249358b8f7a');\n",
       "        const dataTable =\n",
       "          await google.colab.kernel.invokeFunction('convertToInteractive',\n",
       "                                                    [key], {});\n",
       "        if (!dataTable) return;\n",
       "\n",
       "        const docLinkHtml = 'Like what you see? Visit the ' +\n",
       "          '<a target=\"_blank\" href=https://colab.research.google.com/notebooks/data_table.ipynb>data table notebook</a>'\n",
       "          + ' to learn more about interactive tables.';\n",
       "        element.innerHTML = '';\n",
       "        dataTable['output_type'] = 'display_data';\n",
       "        await google.colab.output.renderOutput(dataTable, element);\n",
       "        const docLink = document.createElement('div');\n",
       "        docLink.innerHTML = docLinkHtml;\n",
       "        element.appendChild(docLink);\n",
       "      }\n",
       "    </script>\n",
       "  </div>\n",
       "\n",
       "\n",
       "<div id=\"df-aefcdb6c-1cac-4d87-838a-dfacbf6f8994\">\n",
       "  <button class=\"colab-df-quickchart\" onclick=\"quickchart('df-aefcdb6c-1cac-4d87-838a-dfacbf6f8994')\"\n",
       "            title=\"Suggest charts\"\n",
       "            style=\"display:none;\">\n",
       "\n",
       "<svg xmlns=\"http://www.w3.org/2000/svg\" height=\"24px\"viewBox=\"0 0 24 24\"\n",
       "     width=\"24px\">\n",
       "    <g>\n",
       "        <path d=\"M19 3H5c-1.1 0-2 .9-2 2v14c0 1.1.9 2 2 2h14c1.1 0 2-.9 2-2V5c0-1.1-.9-2-2-2zM9 17H7v-7h2v7zm4 0h-2V7h2v10zm4 0h-2v-4h2v4z\"/>\n",
       "    </g>\n",
       "</svg>\n",
       "  </button>\n",
       "\n",
       "<style>\n",
       "  .colab-df-quickchart {\n",
       "      --bg-color: #E8F0FE;\n",
       "      --fill-color: #1967D2;\n",
       "      --hover-bg-color: #E2EBFA;\n",
       "      --hover-fill-color: #174EA6;\n",
       "      --disabled-fill-color: #AAA;\n",
       "      --disabled-bg-color: #DDD;\n",
       "  }\n",
       "\n",
       "  [theme=dark] .colab-df-quickchart {\n",
       "      --bg-color: #3B4455;\n",
       "      --fill-color: #D2E3FC;\n",
       "      --hover-bg-color: #434B5C;\n",
       "      --hover-fill-color: #FFFFFF;\n",
       "      --disabled-bg-color: #3B4455;\n",
       "      --disabled-fill-color: #666;\n",
       "  }\n",
       "\n",
       "  .colab-df-quickchart {\n",
       "    background-color: var(--bg-color);\n",
       "    border: none;\n",
       "    border-radius: 50%;\n",
       "    cursor: pointer;\n",
       "    display: none;\n",
       "    fill: var(--fill-color);\n",
       "    height: 32px;\n",
       "    padding: 0;\n",
       "    width: 32px;\n",
       "  }\n",
       "\n",
       "  .colab-df-quickchart:hover {\n",
       "    background-color: var(--hover-bg-color);\n",
       "    box-shadow: 0 1px 2px rgba(60, 64, 67, 0.3), 0 1px 3px 1px rgba(60, 64, 67, 0.15);\n",
       "    fill: var(--button-hover-fill-color);\n",
       "  }\n",
       "\n",
       "  .colab-df-quickchart-complete:disabled,\n",
       "  .colab-df-quickchart-complete:disabled:hover {\n",
       "    background-color: var(--disabled-bg-color);\n",
       "    fill: var(--disabled-fill-color);\n",
       "    box-shadow: none;\n",
       "  }\n",
       "\n",
       "  .colab-df-spinner {\n",
       "    border: 2px solid var(--fill-color);\n",
       "    border-color: transparent;\n",
       "    border-bottom-color: var(--fill-color);\n",
       "    animation:\n",
       "      spin 1s steps(1) infinite;\n",
       "  }\n",
       "\n",
       "  @keyframes spin {\n",
       "    0% {\n",
       "      border-color: transparent;\n",
       "      border-bottom-color: var(--fill-color);\n",
       "      border-left-color: var(--fill-color);\n",
       "    }\n",
       "    20% {\n",
       "      border-color: transparent;\n",
       "      border-left-color: var(--fill-color);\n",
       "      border-top-color: var(--fill-color);\n",
       "    }\n",
       "    30% {\n",
       "      border-color: transparent;\n",
       "      border-left-color: var(--fill-color);\n",
       "      border-top-color: var(--fill-color);\n",
       "      border-right-color: var(--fill-color);\n",
       "    }\n",
       "    40% {\n",
       "      border-color: transparent;\n",
       "      border-right-color: var(--fill-color);\n",
       "      border-top-color: var(--fill-color);\n",
       "    }\n",
       "    60% {\n",
       "      border-color: transparent;\n",
       "      border-right-color: var(--fill-color);\n",
       "    }\n",
       "    80% {\n",
       "      border-color: transparent;\n",
       "      border-right-color: var(--fill-color);\n",
       "      border-bottom-color: var(--fill-color);\n",
       "    }\n",
       "    90% {\n",
       "      border-color: transparent;\n",
       "      border-bottom-color: var(--fill-color);\n",
       "    }\n",
       "  }\n",
       "</style>\n",
       "\n",
       "  <script>\n",
       "    async function quickchart(key) {\n",
       "      const quickchartButtonEl =\n",
       "        document.querySelector('#' + key + ' button');\n",
       "      quickchartButtonEl.disabled = true;  // To prevent multiple clicks.\n",
       "      quickchartButtonEl.classList.add('colab-df-spinner');\n",
       "      try {\n",
       "        const charts = await google.colab.kernel.invokeFunction(\n",
       "            'suggestCharts', [key], {});\n",
       "      } catch (error) {\n",
       "        console.error('Error during call to suggestCharts:', error);\n",
       "      }\n",
       "      quickchartButtonEl.classList.remove('colab-df-spinner');\n",
       "      quickchartButtonEl.classList.add('colab-df-quickchart-complete');\n",
       "    }\n",
       "    (() => {\n",
       "      let quickchartButtonEl =\n",
       "        document.querySelector('#df-aefcdb6c-1cac-4d87-838a-dfacbf6f8994 button');\n",
       "      quickchartButtonEl.style.display =\n",
       "        google.colab.kernel.accessAllowed ? 'block' : 'none';\n",
       "    })();\n",
       "  </script>\n",
       "</div>\n",
       "    </div>\n",
       "  </div>\n"
      ]
     },
     "metadata": {},
     "execution_count": 24
    }
   ]
  },
  {
   "cell_type": "code",
   "source": [
    "# Showing distribution of documents assigned to respective topics\n",
    "\n",
    "plt.hist(topic_allocation['allocated_topic'],width=0.3)"
   ],
   "metadata": {
    "colab": {
     "base_uri": "https://localhost:8080/",
     "height": 482
    },
    "id": "zLlaJD_IOl2K",
    "outputId": "e521d3a5-d3b0-4fd9-b184-1aca9c57d22f"
   },
   "execution_count": null,
   "outputs": [
    {
     "output_type": "execute_result",
     "data": {
      "text/plain": [
       "(array([ 7.,  0.,  0., 11.,  0.,  0., 10.,  0.,  0., 15.]),\n",
       " array([0. , 0.3, 0.6, 0.9, 1.2, 1.5, 1.8, 2.1, 2.4, 2.7, 3. ]),\n",
       " <BarContainer object of 10 artists>)"
      ]
     },
     "metadata": {},
     "execution_count": 25
    },
    {
     "output_type": "display_data",
     "data": {
      "text/plain": [
       "<Figure size 640x480 with 1 Axes>"
      ],
      "image/png": "[encoded data removed]"
     },
     "metadata": {}
    }
   ]
  },
  {
   "cell_type": "markdown",
   "source": [
    "### 3.4 Interpretation"
   ],
   "metadata": {
    "id": "HXqC6Ji8O2He"
   }
  },
  {
   "cell_type": "markdown",
   "source": [
    "Our trained model has produced a clustering of the research papers into 5 topics. While the achieved coherence score of the final model allows for some certainty in the integrity of the topics, we will manually look at the selected words and the respective papers. Then, an overall strongest theme for each topic will be given manually.  "
   ],
   "metadata": {
    "id": "N6zZIXH1O6Pi"
   }
  },
  {
   "cell_type": "code",
   "source": [
    "def print_topic_and_paper(t):\n",
    "\n",
    "    print(lda_model_2.print_topics(num_words=15)[t][1])\n",
    "    print(f'no topics: {len(topic_allocation[topic_allocation[\"allocated_topic\"]==t][\"Title\"])}')\n",
    "\n",
    "    for title in topic_allocation[topic_allocation['allocated_topic']==t]['Title']:\n",
    "        print('-------')\n",
    "        print(title)\n",
    "\n",
    "print_topic_and_paper(2)"
   ],
   "metadata": {
    "colab": {
     "base_uri": "https://localhost:8080/",
     "height": 333
    },
    "id": "GWMj7FbnOl50",
    "outputId": "1b864be5-44b4-439d-ac48-f0da7491cb09"
   },
   "execution_count": null,
   "outputs": [
    {
     "output_type": "error",
     "ename": "NameError",
     "evalue": "name 'lda_model_2' is not defined",
     "traceback": [
      "\u001B[0;31m---------------------------------------------------------------------------\u001B[0m",
      "\u001B[0;31mNameError\u001B[0m                                 Traceback (most recent call last)",
      "\u001B[0;32m<ipython-input-1-bd903969f3c9>\u001B[0m in \u001B[0;36m<cell line: 10>\u001B[0;34m()\u001B[0m\n\u001B[1;32m      8\u001B[0m         \u001B[0mprint\u001B[0m\u001B[0;34m(\u001B[0m\u001B[0mtitle\u001B[0m\u001B[0;34m)\u001B[0m\u001B[0;34m\u001B[0m\u001B[0;34m\u001B[0m\u001B[0m\n\u001B[1;32m      9\u001B[0m \u001B[0;34m\u001B[0m\u001B[0m\n\u001B[0;32m---> 10\u001B[0;31m \u001B[0mprint_topic_and_paper\u001B[0m\u001B[0;34m(\u001B[0m\u001B[0;36m2\u001B[0m\u001B[0;34m)\u001B[0m\u001B[0;34m\u001B[0m\u001B[0;34m\u001B[0m\u001B[0m\n\u001B[0m",
      "\u001B[0;32m<ipython-input-1-bd903969f3c9>\u001B[0m in \u001B[0;36mprint_topic_and_paper\u001B[0;34m(t)\u001B[0m\n\u001B[1;32m      1\u001B[0m \u001B[0;32mdef\u001B[0m \u001B[0mprint_topic_and_paper\u001B[0m\u001B[0;34m(\u001B[0m\u001B[0mt\u001B[0m\u001B[0;34m)\u001B[0m\u001B[0;34m:\u001B[0m\u001B[0;34m\u001B[0m\u001B[0;34m\u001B[0m\u001B[0m\n\u001B[1;32m      2\u001B[0m \u001B[0;34m\u001B[0m\u001B[0m\n\u001B[0;32m----> 3\u001B[0;31m     \u001B[0mprint\u001B[0m\u001B[0;34m(\u001B[0m\u001B[0mlda_model_2\u001B[0m\u001B[0;34m.\u001B[0m\u001B[0mprint_topics\u001B[0m\u001B[0;34m(\u001B[0m\u001B[0mnum_words\u001B[0m\u001B[0;34m=\u001B[0m\u001B[0;36m15\u001B[0m\u001B[0;34m)\u001B[0m\u001B[0;34m[\u001B[0m\u001B[0mt\u001B[0m\u001B[0;34m]\u001B[0m\u001B[0;34m[\u001B[0m\u001B[0;36m1\u001B[0m\u001B[0;34m]\u001B[0m\u001B[0;34m)\u001B[0m\u001B[0;34m\u001B[0m\u001B[0;34m\u001B[0m\u001B[0m\n\u001B[0m\u001B[1;32m      4\u001B[0m     \u001B[0mprint\u001B[0m\u001B[0;34m(\u001B[0m\u001B[0;34mf'no topics: {len(topic_allocation[topic_allocation[\"allocated_topic\"]==t][\"Title\"])}'\u001B[0m\u001B[0;34m)\u001B[0m\u001B[0;34m\u001B[0m\u001B[0;34m\u001B[0m\u001B[0m\n\u001B[1;32m      5\u001B[0m \u001B[0;34m\u001B[0m\u001B[0m\n",
      "\u001B[0;31mNameError\u001B[0m: name 'lda_model_2' is not defined"
     ]
    }
   ]
  },
  {
   "cell_type": "code",
   "source": [
    "lda_model_2.print_topics(num_words=15)[0][1]"
   ],
   "metadata": {
    "colab": {
     "base_uri": "https://localhost:8080/",
     "height": 52
    },
    "id": "8lPx58fqNpeM",
    "outputId": "fe78a829-8ac2-4c5f-d630-eaea5b89ef86"
   },
   "execution_count": null,
   "outputs": [
    {
     "output_type": "execute_result",
     "data": {
      "text/plain": [
       "'0.001*\"quantile\" + 0.001*\"balance_measure\" + 0.001*\"uncertainty\" + 0.000*\"nwe\" + 0.000*\"variability\" + 0.000*\"resilience\" + 0.000*\"unfairness\" + 0.000*\"balance\" + 0.000*\"distributed_representation\" + 0.000*\"vulnerability\" + 0.000*\"welfare\" + 0.000*\"risk\" + 0.000*\"fairness\" + 0.000*\"student\" + 0.000*\"bias\"'"
      ],
      "application/vnd.google.colaboratory.intrinsic+json": {
       "type": "string"
      }
     },
     "metadata": {},
     "execution_count": 27
    }
   ]
  },
  {
   "cell_type": "markdown",
   "source": [
    "**topic 0**: General Data Quality detection and preparation with pipelines(12) <br/>\n",
    "**topic 1**: Dealing with label noise and data anomalies (6) <br/>\n",
    "**topic 2**: Label quality and cleaning processes (8)<br/>\n",
    "**topic 3**: Data Fairness (9)<br/>\n",
    "**topic 4**: Managing of bias within data (8) <br/>"
   ],
   "metadata": {
    "id": "cuugnHEgPE-E"
   }
  },
  {
   "cell_type": "markdown",
   "source": [
    "### 3.5 Conclusion"
   ],
   "metadata": {
    "id": "JJR9o1hnPI03"
   }
  },
  {
   "cell_type": "markdown",
   "source": [
    "With the help of the LDA analysis, it is possible to define some prevalent topics within the presented literature review. Through this analysis, we found the following main topics:\n",
    "\n",
    "**Data cleaning and preparation, often in the form of pipelines** <br/>\n",
    "**Assessing and improving on label quality of data** <br/>\n",
    "**Data Fairness and managing bias within datasets.**"
   ],
   "metadata": {
    "id": "9uOgTZa5PIbW"
   }
  },
  {
   "cell_type": "markdown",
   "source": [
    "The following paper will now focus on the second detected topic, assessing and improving on label quality of data. In our manual and LDA analysis, the topic of data label quality remains a strong subcategory for data quality metrics. Therefore, existing methods on label quality improvement will be assessed on new data and will be compared on their potential for further model improvements.  "
   ],
   "metadata": {
    "id": "mEZd9ahlPS5q"
   }
  },
  {
   "cell_type": "markdown",
   "source": [
    "## 4. Data Label Noise\n",
    "\n",
    "When conducting a supervised learning algorithm, the model is trained on a set of training labels. With noisy data, a model's accuracy and therefore its performance gets reduced dramatically (Jiang, 2020). We will introduce methods that evaluate the quality of data labels. These quality metrics are then utilized to improve a model's performance without touching its architecture or hyperparameters. Other methodologies will improve on model performance in other ways related to label noise."
   ],
   "metadata": {
    "id": "9ly548uisKrC"
   }
  },
  {
   "cell_type": "markdown",
   "source": [
    "## 5. SOTA Methods in Data label noise work"
   ],
   "metadata": {
    "id": "PaTn6Ljub3Us"
   }
  },
  {
   "cell_type": "markdown",
   "source": [
    "## 5.1 Confident Learning - CleanLab:\n",
    "\n",
    "<ins> What is Confident Learning? <ins>\n",
    "\n",
    "Confident learning is a paradigm in machine learning that focuses on building models that are aware of and can handle noisy or mislabeled data. The main goal of confident learning is to improve the robustness and reliability of machine learning models, particularly in the presence of label noise.\n",
    "\n",
    "Label noise occurs when there are errors or inaccuracies in the labeled training data, meaning that some instances are mislabeled. Traditional machine learning models can be sensitive to label noise and may produce suboptimal performance or be misled by incorrect labels.\n",
    "\n",
    "Confident learning aims to address this challenge by incorporating uncertainty estimates into the learning process. Here are some key aspects of confident learning:\n",
    "\n",
    "Confident Learning article: https://arxiv.org/pdf/1911.00068.pdf\n",
    "\n",
    "<ins> Cleanlab: <ins>\n",
    "\n",
    "Cleanlab is a statistical library that has been developed to assesss\n",
    "data quality issues regarding data sets and address them and clean them. It is nominated as the most popular open source data centric - AI package in use at the moment. This statistical library has been mentioned by multiple articles in our literature review and practical applications have proven that it's model-agnostic nature for dealing with data quality helps improve model performace.\n",
    "\n",
    "Cleanlab package supports text, image, and tabular datasets. In the next part of this notebook we will apply\n",
    "the the `find_label_issues()` function of this library to investigate the label issues. We will apply this method in multiple domains of data and check the explainability and model performance built on this data.\n",
    "\n",
    "In the last years there is also a user interface is developed for this library in order to provide no-code data quality assessment and data cleaning. (ref: https://help.cleanlab.ai/guide/quickstart/web/)\n",
    "\n",
    "\"CleanLearning fits multiple copies of our regression model via cross-validation and bootstrapping in order to compute predictions and uncertainty estimates for the dataset, which are used to identify label issues (i.e. likely corrupted y-values).\n",
    "\n",
    "This method returns a Dataframe containing a label quality score (between 0 and 1) for each example in your dataset. Lower scores indicate examples more likely to be mislabeled with an erroneous y value. The Dataframe also contains a boolean column specifying whether or not each example is identified to have a label issue (indicating its y-value appears corrupted).\"\n",
    "\n",
    "https://github.com/cleanlab/cleanlab"
   ],
   "metadata": {
    "id": "ob_wqR9maVq6"
   }
  },
  {
   "cell_type": "markdown",
   "source": [
    "These articles can be used:\n",
    "\n",
    "1- https://github.com/cleanlab/cleanlab/blob/master/docs/source/tutorials/regression.ipynb\n",
    "\n",
    "2- https://github.com/cleanlab/examples/blob/master/find_tabular_errors/find_tabular_errors.ipynb\n",
    "\n",
    "3- Detecting Label Noise in Tabular Data: https://docs.cleanlab.ai/stable/tutorials/datalab/tabular.html\n",
    "\n",
    "4- https://docs.cleanlab.ai/stable/tutorials/indepth_overview.html\n",
    "\n",
    "5- https://github.com/cleanlab/examples"
   ],
   "metadata": {
    "id": "W3ENrTD_4o2U"
   }
  },
  {
   "cell_type": "code",
   "source": [
    "import cleanlab\n",
    "print(cleanlab.__version__)"
   ],
   "metadata": {
    "colab": {
     "base_uri": "https://localhost:8080/"
    },
    "id": "phWCGSLHxTZx",
    "outputId": "e907ce11-5119-46ae-cba2-86227d480e97"
   },
   "execution_count": null,
   "outputs": [
    {
     "output_type": "stream",
     "name": "stdout",
     "text": [
      "1.0.1\n"
     ]
    }
   ]
  },
  {
   "cell_type": "code",
   "source": [
    "# Let's import our libraries\n",
    "import xgboost as xgb\n",
    "from sklearn.linear_model import LogisticRegression\n",
    "import cleanlab\n",
    "#from cleanlab.classification import CleanLearning\n",
    "from cleanlab.regression.learn import CleanLearning as CleanLearning_reg\n",
    "#from cleanlab.classification import LearningWithNoisyLabels\n",
    "from cleanlab.benchmarking import noise_generation\n",
    "from sklearn.metrics import r2_score\n",
    "from sklearn.model_selection import train_test_split\n",
    "from sklearn.metrics import accuracy_score, classification_report"
   ],
   "metadata": {
    "id": "gUopn7eetqXa",
    "colab": {
     "base_uri": "https://localhost:8080/",
     "height": 384
    },
    "outputId": "2a89b944-ee74-4dd0-af47-dece7f84ccea"
   },
   "execution_count": null,
   "outputs": [
    {
     "output_type": "error",
     "ename": "ModuleNotFoundError",
     "evalue": "No module named 'cleanlab.regression'",
     "traceback": [
      "\u001B[0;31m---------------------------------------------------------------------------\u001B[0m",
      "\u001B[0;31mModuleNotFoundError\u001B[0m                       Traceback (most recent call last)",
      "\u001B[0;32m<ipython-input-5-852146261843>\u001B[0m in \u001B[0;36m<cell line: 6>\u001B[0;34m()\u001B[0m\n\u001B[1;32m      4\u001B[0m \u001B[0;32mimport\u001B[0m \u001B[0mcleanlab\u001B[0m\u001B[0;34m\u001B[0m\u001B[0;34m\u001B[0m\u001B[0m\n\u001B[1;32m      5\u001B[0m \u001B[0;31m#from cleanlab.classification import CleanLearning\u001B[0m\u001B[0;34m\u001B[0m\u001B[0;34m\u001B[0m\u001B[0m\n\u001B[0;32m----> 6\u001B[0;31m \u001B[0;32mfrom\u001B[0m \u001B[0mcleanlab\u001B[0m\u001B[0;34m.\u001B[0m\u001B[0mregression\u001B[0m\u001B[0;34m.\u001B[0m\u001B[0mlearn\u001B[0m \u001B[0;32mimport\u001B[0m \u001B[0mCleanLearning\u001B[0m \u001B[0;32mas\u001B[0m \u001B[0mCleanLearning_reg\u001B[0m\u001B[0;34m\u001B[0m\u001B[0;34m\u001B[0m\u001B[0m\n\u001B[0m\u001B[1;32m      7\u001B[0m \u001B[0;31m#from cleanlab.classification import LearningWithNoisyLabels\u001B[0m\u001B[0;34m\u001B[0m\u001B[0;34m\u001B[0m\u001B[0m\n\u001B[1;32m      8\u001B[0m \u001B[0;32mfrom\u001B[0m \u001B[0mcleanlab\u001B[0m\u001B[0;34m.\u001B[0m\u001B[0mbenchmarking\u001B[0m \u001B[0;32mimport\u001B[0m \u001B[0mnoise_generation\u001B[0m\u001B[0;34m\u001B[0m\u001B[0;34m\u001B[0m\u001B[0m\n",
      "\u001B[0;31mModuleNotFoundError\u001B[0m: No module named 'cleanlab.regression'",
      "",
      "\u001B[0;31m---------------------------------------------------------------------------\u001B[0;32m\nNOTE: If your import is failing due to a missing package, you can\nmanually install dependencies using either !pip or !apt.\n\nTo view examples of installing some common dependencies, click the\n\"Open Examples\" button below.\n\u001B[0;31m---------------------------------------------------------------------------\u001B[0m\n"
     ],
     "errorDetails": {
      "actions": [
       {
        "action": "open_url",
        "actionText": "Open Examples",
        "url": "/notebooks/snippets/importing_libraries.ipynb"
       }
      ]
     }
    }
   ]
  },
  {
   "cell_type": "markdown",
   "source": [
    "### 5.1.1 Regression Example in Grade DataSet:"
   ],
   "metadata": {
    "id": "b-nvWhgJsdGw"
   }
  },
  {
   "cell_type": "code",
   "source": [
    "# Lets first try this library with one of the suggested data sets from cleanlab\n",
    "\n",
    "train_data = pd.read_csv(\"https://s.cleanlab.ai/student_grades_r/train.csv\")\n",
    "test_data = pd.read_csv(\"https://s.cleanlab.ai/student_grades_r/test.csv\")\n",
    "train_data.head()"
   ],
   "metadata": {
    "colab": {
     "base_uri": "https://localhost:8080/",
     "height": 206
    },
    "id": "9q0gtv_wtjSR",
    "outputId": "244a24da-da84-4f74-bdba-b41caeb3d054"
   },
   "execution_count": null,
   "outputs": [
    {
     "output_type": "execute_result",
     "data": {
      "text/plain": [
       "   exam_1  exam_2  exam_3                           notes  final_score  \\\n",
       "0      72      81      80                             NaN         73.3   \n",
       "1      89      62      93                             NaN         83.8   \n",
       "2      97       0      94                             NaN         73.5   \n",
       "3      80      76      96     missed class frequently -10         78.6   \n",
       "4      67      87      95  missed homework frequently -10         74.1   \n",
       "\n",
       "   true_final_score  \n",
       "0              73.3  \n",
       "1              83.8  \n",
       "2              73.5  \n",
       "3              78.6  \n",
       "4              74.1  "
      ],
      "text/html": [
       "\n",
       "  <div id=\"df-92c1e00f-6bb5-43af-b90c-c378ae64ac1c\" class=\"colab-df-container\">\n",
       "    <div>\n",
       "<style scoped>\n",
       "    .dataframe tbody tr th:only-of-type {\n",
       "        vertical-align: middle;\n",
       "    }\n",
       "\n",
       "    .dataframe tbody tr th {\n",
       "        vertical-align: top;\n",
       "    }\n",
       "\n",
       "    .dataframe thead th {\n",
       "        text-align: right;\n",
       "    }\n",
       "</style>\n",
       "<table border=\"1\" class=\"dataframe\">\n",
       "  <thead>\n",
       "    <tr style=\"text-align: right;\">\n",
       "      <th></th>\n",
       "      <th>exam_1</th>\n",
       "      <th>exam_2</th>\n",
       "      <th>exam_3</th>\n",
       "      <th>notes</th>\n",
       "      <th>final_score</th>\n",
       "      <th>true_final_score</th>\n",
       "    </tr>\n",
       "  </thead>\n",
       "  <tbody>\n",
       "    <tr>\n",
       "      <th>0</th>\n",
       "      <td>72</td>\n",
       "      <td>81</td>\n",
       "      <td>80</td>\n",
       "      <td>NaN</td>\n",
       "      <td>73.3</td>\n",
       "      <td>73.3</td>\n",
       "    </tr>\n",
       "    <tr>\n",
       "      <th>1</th>\n",
       "      <td>89</td>\n",
       "      <td>62</td>\n",
       "      <td>93</td>\n",
       "      <td>NaN</td>\n",
       "      <td>83.8</td>\n",
       "      <td>83.8</td>\n",
       "    </tr>\n",
       "    <tr>\n",
       "      <th>2</th>\n",
       "      <td>97</td>\n",
       "      <td>0</td>\n",
       "      <td>94</td>\n",
       "      <td>NaN</td>\n",
       "      <td>73.5</td>\n",
       "      <td>73.5</td>\n",
       "    </tr>\n",
       "    <tr>\n",
       "      <th>3</th>\n",
       "      <td>80</td>\n",
       "      <td>76</td>\n",
       "      <td>96</td>\n",
       "      <td>missed class frequently -10</td>\n",
       "      <td>78.6</td>\n",
       "      <td>78.6</td>\n",
       "    </tr>\n",
       "    <tr>\n",
       "      <th>4</th>\n",
       "      <td>67</td>\n",
       "      <td>87</td>\n",
       "      <td>95</td>\n",
       "      <td>missed homework frequently -10</td>\n",
       "      <td>74.1</td>\n",
       "      <td>74.1</td>\n",
       "    </tr>\n",
       "  </tbody>\n",
       "</table>\n",
       "</div>\n",
       "    <div class=\"colab-df-buttons\">\n",
       "\n",
       "  <div class=\"colab-df-container\">\n",
       "    <button class=\"colab-df-convert\" onclick=\"convertToInteractive('df-92c1e00f-6bb5-43af-b90c-c378ae64ac1c')\"\n",
       "            title=\"Convert this dataframe to an interactive table.\"\n",
       "            style=\"display:none;\">\n",
       "\n",
       "  <svg xmlns=\"http://www.w3.org/2000/svg\" height=\"24px\" viewBox=\"0 -960 960 960\">\n",
       "    <path d=\"M120-120v-720h720v720H120Zm60-500h600v-160H180v160Zm220 220h160v-160H400v160Zm0 220h160v-160H400v160ZM180-400h160v-160H180v160Zm440 0h160v-160H620v160ZM180-180h160v-160H180v160Zm440 0h160v-160H620v160Z\"/>\n",
       "  </svg>\n",
       "    </button>\n",
       "\n",
       "  <style>\n",
       "    .colab-df-container {\n",
       "      display:flex;\n",
       "      gap: 12px;\n",
       "    }\n",
       "\n",
       "    .colab-df-convert {\n",
       "      background-color: #E8F0FE;\n",
       "      border: none;\n",
       "      border-radius: 50%;\n",
       "      cursor: pointer;\n",
       "      display: none;\n",
       "      fill: #1967D2;\n",
       "      height: 32px;\n",
       "      padding: 0 0 0 0;\n",
       "      width: 32px;\n",
       "    }\n",
       "\n",
       "    .colab-df-convert:hover {\n",
       "      background-color: #E2EBFA;\n",
       "      box-shadow: 0px 1px 2px rgba(60, 64, 67, 0.3), 0px 1px 3px 1px rgba(60, 64, 67, 0.15);\n",
       "      fill: #174EA6;\n",
       "    }\n",
       "\n",
       "    .colab-df-buttons div {\n",
       "      margin-bottom: 4px;\n",
       "    }\n",
       "\n",
       "    [theme=dark] .colab-df-convert {\n",
       "      background-color: #3B4455;\n",
       "      fill: #D2E3FC;\n",
       "    }\n",
       "\n",
       "    [theme=dark] .colab-df-convert:hover {\n",
       "      background-color: #434B5C;\n",
       "      box-shadow: 0px 1px 3px 1px rgba(0, 0, 0, 0.15);\n",
       "      filter: drop-shadow(0px 1px 2px rgba(0, 0, 0, 0.3));\n",
       "      fill: #FFFFFF;\n",
       "    }\n",
       "  </style>\n",
       "\n",
       "    <script>\n",
       "      const buttonEl =\n",
       "        document.querySelector('#df-92c1e00f-6bb5-43af-b90c-c378ae64ac1c button.colab-df-convert');\n",
       "      buttonEl.style.display =\n",
       "        google.colab.kernel.accessAllowed ? 'block' : 'none';\n",
       "\n",
       "      async function convertToInteractive(key) {\n",
       "        const element = document.querySelector('#df-92c1e00f-6bb5-43af-b90c-c378ae64ac1c');\n",
       "        const dataTable =\n",
       "          await google.colab.kernel.invokeFunction('convertToInteractive',\n",
       "                                                    [key], {});\n",
       "        if (!dataTable) return;\n",
       "\n",
       "        const docLinkHtml = 'Like what you see? Visit the ' +\n",
       "          '<a target=\"_blank\" href=https://colab.research.google.com/notebooks/data_table.ipynb>data table notebook</a>'\n",
       "          + ' to learn more about interactive tables.';\n",
       "        element.innerHTML = '';\n",
       "        dataTable['output_type'] = 'display_data';\n",
       "        await google.colab.output.renderOutput(dataTable, element);\n",
       "        const docLink = document.createElement('div');\n",
       "        docLink.innerHTML = docLinkHtml;\n",
       "        element.appendChild(docLink);\n",
       "      }\n",
       "    </script>\n",
       "  </div>\n",
       "\n",
       "\n",
       "<div id=\"df-4201ae32-f0d7-4234-9a4f-4215f2d7d1e1\">\n",
       "  <button class=\"colab-df-quickchart\" onclick=\"quickchart('df-4201ae32-f0d7-4234-9a4f-4215f2d7d1e1')\"\n",
       "            title=\"Suggest charts\"\n",
       "            style=\"display:none;\">\n",
       "\n",
       "<svg xmlns=\"http://www.w3.org/2000/svg\" height=\"24px\"viewBox=\"0 0 24 24\"\n",
       "     width=\"24px\">\n",
       "    <g>\n",
       "        <path d=\"M19 3H5c-1.1 0-2 .9-2 2v14c0 1.1.9 2 2 2h14c1.1 0 2-.9 2-2V5c0-1.1-.9-2-2-2zM9 17H7v-7h2v7zm4 0h-2V7h2v10zm4 0h-2v-4h2v4z\"/>\n",
       "    </g>\n",
       "</svg>\n",
       "  </button>\n",
       "\n",
       "<style>\n",
       "  .colab-df-quickchart {\n",
       "      --bg-color: #E8F0FE;\n",
       "      --fill-color: #1967D2;\n",
       "      --hover-bg-color: #E2EBFA;\n",
       "      --hover-fill-color: #174EA6;\n",
       "      --disabled-fill-color: #AAA;\n",
       "      --disabled-bg-color: #DDD;\n",
       "  }\n",
       "\n",
       "  [theme=dark] .colab-df-quickchart {\n",
       "      --bg-color: #3B4455;\n",
       "      --fill-color: #D2E3FC;\n",
       "      --hover-bg-color: #434B5C;\n",
       "      --hover-fill-color: #FFFFFF;\n",
       "      --disabled-bg-color: #3B4455;\n",
       "      --disabled-fill-color: #666;\n",
       "  }\n",
       "\n",
       "  .colab-df-quickchart {\n",
       "    background-color: var(--bg-color);\n",
       "    border: none;\n",
       "    border-radius: 50%;\n",
       "    cursor: pointer;\n",
       "    display: none;\n",
       "    fill: var(--fill-color);\n",
       "    height: 32px;\n",
       "    padding: 0;\n",
       "    width: 32px;\n",
       "  }\n",
       "\n",
       "  .colab-df-quickchart:hover {\n",
       "    background-color: var(--hover-bg-color);\n",
       "    box-shadow: 0 1px 2px rgba(60, 64, 67, 0.3), 0 1px 3px 1px rgba(60, 64, 67, 0.15);\n",
       "    fill: var(--button-hover-fill-color);\n",
       "  }\n",
       "\n",
       "  .colab-df-quickchart-complete:disabled,\n",
       "  .colab-df-quickchart-complete:disabled:hover {\n",
       "    background-color: var(--disabled-bg-color);\n",
       "    fill: var(--disabled-fill-color);\n",
       "    box-shadow: none;\n",
       "  }\n",
       "\n",
       "  .colab-df-spinner {\n",
       "    border: 2px solid var(--fill-color);\n",
       "    border-color: transparent;\n",
       "    border-bottom-color: var(--fill-color);\n",
       "    animation:\n",
       "      spin 1s steps(1) infinite;\n",
       "  }\n",
       "\n",
       "  @keyframes spin {\n",
       "    0% {\n",
       "      border-color: transparent;\n",
       "      border-bottom-color: var(--fill-color);\n",
       "      border-left-color: var(--fill-color);\n",
       "    }\n",
       "    20% {\n",
       "      border-color: transparent;\n",
       "      border-left-color: var(--fill-color);\n",
       "      border-top-color: var(--fill-color);\n",
       "    }\n",
       "    30% {\n",
       "      border-color: transparent;\n",
       "      border-left-color: var(--fill-color);\n",
       "      border-top-color: var(--fill-color);\n",
       "      border-right-color: var(--fill-color);\n",
       "    }\n",
       "    40% {\n",
       "      border-color: transparent;\n",
       "      border-right-color: var(--fill-color);\n",
       "      border-top-color: var(--fill-color);\n",
       "    }\n",
       "    60% {\n",
       "      border-color: transparent;\n",
       "      border-right-color: var(--fill-color);\n",
       "    }\n",
       "    80% {\n",
       "      border-color: transparent;\n",
       "      border-right-color: var(--fill-color);\n",
       "      border-bottom-color: var(--fill-color);\n",
       "    }\n",
       "    90% {\n",
       "      border-color: transparent;\n",
       "      border-bottom-color: var(--fill-color);\n",
       "    }\n",
       "  }\n",
       "</style>\n",
       "\n",
       "  <script>\n",
       "    async function quickchart(key) {\n",
       "      const quickchartButtonEl =\n",
       "        document.querySelector('#' + key + ' button');\n",
       "      quickchartButtonEl.disabled = true;  // To prevent multiple clicks.\n",
       "      quickchartButtonEl.classList.add('colab-df-spinner');\n",
       "      try {\n",
       "        const charts = await google.colab.kernel.invokeFunction(\n",
       "            'suggestCharts', [key], {});\n",
       "      } catch (error) {\n",
       "        console.error('Error during call to suggestCharts:', error);\n",
       "      }\n",
       "      quickchartButtonEl.classList.remove('colab-df-spinner');\n",
       "      quickchartButtonEl.classList.add('colab-df-quickchart-complete');\n",
       "    }\n",
       "    (() => {\n",
       "      let quickchartButtonEl =\n",
       "        document.querySelector('#df-4201ae32-f0d7-4234-9a4f-4215f2d7d1e1 button');\n",
       "      quickchartButtonEl.style.display =\n",
       "        google.colab.kernel.accessAllowed ? 'block' : 'none';\n",
       "    })();\n",
       "  </script>\n",
       "</div>\n",
       "    </div>\n",
       "  </div>\n"
      ]
     },
     "metadata": {},
     "execution_count": 10
    }
   ]
  },
  {
   "cell_type": "code",
   "source": [
    "feature_columns = [\"exam_1\", \"exam_2\", \"exam_3\", \"notes\"]\n",
    "predicted_column = \"final_score\"\n",
    "\n",
    "X_train_raw, y_train = train_data[feature_columns], train_data[predicted_column]\n",
    "X_test_raw, y_test = test_data[feature_columns], test_data[predicted_column]\n",
    "\n",
    "categorical_features = [\"notes\"]\n",
    "X_train = pd.get_dummies(X_train_raw, columns=categorical_features)\n",
    "X_test = pd.get_dummies(X_test_raw, columns=categorical_features)"
   ],
   "metadata": {
    "id": "7fbi9as_31DH"
   },
   "execution_count": null,
   "outputs": []
  },
  {
   "cell_type": "code",
   "source": [
    "import numpy as np\n",
    "import matplotlib.pyplot as plt\n",
    "from mpl_toolkits.mplot3d import Axes3D\n",
    "\n",
    "def plot_data(train_data, errors_idx):\n",
    "    fig = plt.figure()\n",
    "    ax = fig.add_subplot(111, projection='3d')\n",
    "\n",
    "    x, y, z = train_data[\"exam_1\"], train_data[\"exam_2\"], train_data[\"exam_3\"]\n",
    "    labels = train_data[\"final_score\"]\n",
    "\n",
    "    img = ax.scatter(x, y, z, c=labels, cmap=\"jet\")\n",
    "    fig.colorbar(img)\n",
    "\n",
    "    ax.plot(\n",
    "        x.iloc[errors_idx],\n",
    "        y.iloc[errors_idx],\n",
    "        z.iloc[errors_idx],\n",
    "        \"x\",\n",
    "        markeredgecolor=\"black\",\n",
    "        markersize=10,\n",
    "        markeredgewidth=2.5,\n",
    "        alpha=0.8,\n",
    "        label=\"Label Errors\"\n",
    "    )\n",
    "    ax.legend()"
   ],
   "metadata": {
    "id": "8GyER1jXt-BN"
   },
   "execution_count": null,
   "outputs": []
  },
  {
   "cell_type": "code",
   "source": [
    "errors_mask = train_data[\"final_score\"] != train_data[\"true_final_score\"]\n",
    "errors_idx = np.where(errors_mask == 1)\n",
    "\n",
    "plot_data(train_data, errors_idx)"
   ],
   "metadata": {
    "colab": {
     "base_uri": "https://localhost:8080/",
     "height": 421
    },
    "id": "YY9uPBIBuC7B",
    "outputId": "983a0923-c571-49fc-b111-a8dd34a7fa4b"
   },
   "execution_count": null,
   "outputs": [
    {
     "output_type": "display_data",
     "data": {
      "text/plain": [
       "<Figure size 640x480 with 2 Axes>"
      ],
      "image/png": "[encoded data removed]"
     },
     "metadata": {}
    }
   ]
  },
  {
   "cell_type": "code",
   "source": [
    "# baseline model\n",
    "xgb_model = xgb.XGBRegressor(\n",
    "    objective='reg:squarederror',  # Specify the objective for regression\n",
    "    max_depth=3,  # Maximum depth of the tree\n",
    "    learning_rate=0.1,  # Step size shrinkage to prevent overfitting\n",
    "    n_estimators=100  # Number of boosting rounds\n",
    ")"
   ],
   "metadata": {
    "id": "zVE6p9a13F6C"
   },
   "execution_count": null,
   "outputs": []
  },
  {
   "cell_type": "code",
   "source": [
    "# fit & predict baseline model\n",
    "xgb_model.fit(X_train, y_train)\n",
    "\n",
    "preds_og = xgb_model.predict(X_test)\n",
    "r2_og = r2_score(y_test, preds_og)\n",
    "print(f\"r-squared score of original model: {r2_og:.3f}\")"
   ],
   "metadata": {
    "colab": {
     "base_uri": "https://localhost:8080/"
    },
    "id": "WNr37qefhO87",
    "outputId": "a5050f85-8ad0-4e05-daba-8cc54ffbf7a6"
   },
   "execution_count": null,
   "outputs": [
    {
     "output_type": "stream",
     "name": "stdout",
     "text": [
      "r-squared score of original model: 0.867\n"
     ]
    }
   ]
  },
  {
   "cell_type": "code",
   "source": [
    "#xgb_model = xgb.XGBRegressor()\n",
    "# baseline model wrapped in cleanlab\n",
    "cl = CleanLearning_reg(xgb_model)\n",
    "\n",
    "# lets apply cleanlab find label issues\n",
    "label_issues = cl.find_label_issues(X_train, y_train)\n",
    "label_issues[label_issues.is_label_issue==True]"
   ],
   "metadata": {
    "colab": {
     "base_uri": "https://localhost:8080/",
     "height": 384
    },
    "id": "AoC5qNh8uUJi",
    "outputId": "7b550b01-f8ab-4d33-8ee4-6ee4f8a0fde4"
   },
   "execution_count": null,
   "outputs": [
    {
     "output_type": "error",
     "ename": "ValueError",
     "evalue": "The classifier (clf) must define a .predict_proba() method.",
     "traceback": [
      "\u001B[0;31m---------------------------------------------------------------------------\u001B[0m",
      "\u001B[0;31mValueError\u001B[0m                                Traceback (most recent call last)",
      "\u001B[0;32m<ipython-input-19-b5af4e9205a0>\u001B[0m in \u001B[0;36m<cell line: 2>\u001B[0;34m()\u001B[0m\n\u001B[1;32m      1\u001B[0m \u001B[0;31m# baseline model wrapped in cleanlab\u001B[0m\u001B[0;34m\u001B[0m\u001B[0;34m\u001B[0m\u001B[0m\n\u001B[0;32m----> 2\u001B[0;31m \u001B[0mcl\u001B[0m \u001B[0;34m=\u001B[0m \u001B[0mLearningWithNoisyLabels\u001B[0m\u001B[0;34m(\u001B[0m\u001B[0mclf\u001B[0m\u001B[0;34m=\u001B[0m\u001B[0mxgb_model\u001B[0m\u001B[0;34m)\u001B[0m\u001B[0;34m\u001B[0m\u001B[0;34m\u001B[0m\u001B[0m\n\u001B[0m\u001B[1;32m      3\u001B[0m \u001B[0;34m\u001B[0m\u001B[0m\n\u001B[1;32m      4\u001B[0m \u001B[0;31m# Fit the model to the data (this will also clean the noisy labels)\u001B[0m\u001B[0;34m\u001B[0m\u001B[0;34m\u001B[0m\u001B[0m\n\u001B[1;32m      5\u001B[0m \u001B[0mcl\u001B[0m\u001B[0;34m.\u001B[0m\u001B[0mfit\u001B[0m\u001B[0;34m(\u001B[0m\u001B[0mX_train\u001B[0m\u001B[0;34m,\u001B[0m \u001B[0my_train\u001B[0m\u001B[0;34m)\u001B[0m\u001B[0;34m\u001B[0m\u001B[0;34m\u001B[0m\u001B[0m\n",
      "\u001B[0;32m/usr/local/lib/python3.10/dist-packages/cleanlab/classification.py\u001B[0m in \u001B[0;36m__init__\u001B[0;34m(self, clf, seed, cv_n_folds, prune_method, converge_latent_estimates, pulearning, n_jobs)\u001B[0m\n\u001B[1;32m    202\u001B[0m                 'The classifier (clf) must define a .fit() method.')\n\u001B[1;32m    203\u001B[0m         \u001B[0;32mif\u001B[0m \u001B[0;32mnot\u001B[0m \u001B[0mhasattr\u001B[0m\u001B[0;34m(\u001B[0m\u001B[0mclf\u001B[0m\u001B[0;34m,\u001B[0m \u001B[0;34m\"predict_proba\"\u001B[0m\u001B[0;34m)\u001B[0m\u001B[0;34m:\u001B[0m\u001B[0;34m\u001B[0m\u001B[0;34m\u001B[0m\u001B[0m\n\u001B[0;32m--> 204\u001B[0;31m             raise ValueError(\n\u001B[0m\u001B[1;32m    205\u001B[0m                 'The classifier (clf) must define a .predict_proba() method.')\n\u001B[1;32m    206\u001B[0m         \u001B[0;32mif\u001B[0m \u001B[0;32mnot\u001B[0m \u001B[0mhasattr\u001B[0m\u001B[0;34m(\u001B[0m\u001B[0mclf\u001B[0m\u001B[0;34m,\u001B[0m \u001B[0;34m\"predict\"\u001B[0m\u001B[0;34m)\u001B[0m\u001B[0;34m:\u001B[0m\u001B[0;34m\u001B[0m\u001B[0;34m\u001B[0m\u001B[0m\n",
      "\u001B[0;31mValueError\u001B[0m: The classifier (clf) must define a .predict_proba() method."
     ]
    }
   ]
  },
  {
   "cell_type": "code",
   "source": [
    "# fit & predict baseline model with cleanlab\n",
    "cl.fit(X_train, y_train)\n",
    "\n",
    "label_issues = cl.get_label_issues()\n",
    "\n",
    "preds_cl = cl.predict(X_test)\n",
    "r2_cl = r2_score(y_test, preds_cl)\n",
    "print(f\"r-squared score of cleanlab's model: {r2_cl:.3f}\")"
   ],
   "metadata": {
    "colab": {
     "base_uri": "https://localhost:8080/"
    },
    "id": "q98VlESxiPQA",
    "outputId": "0d297a35-200a-405b-d762-0aec65bf623f"
   },
   "execution_count": null,
   "outputs": [
    {
     "output_type": "stream",
     "name": "stdout",
     "text": [
      "r-squared score of cleanlab's model: 0.911\n"
     ]
    }
   ]
  },
  {
   "cell_type": "markdown",
   "source": [
    "We can already see in this example that:\n",
    "- r-squared score of original model: 0.867\n",
    "- r-squared score of cleanlab's model: 0.935"
   ],
   "metadata": {
    "id": "OLKQyTlji5pQ"
   }
  },
  {
   "cell_type": "markdown",
   "source": [
    "### 5.1.2 Binary Class Example in Brain Tumor Dataset\n",
    "\n",
    "This dataset consists of Brain MRT images as well as tabular data descriptions of these images labeled with Brain Tumor or not.\n",
    "We will first deal with the tabular data."
   ],
   "metadata": {
    "id": "MwCRISpopn1F"
   }
  },
  {
   "cell_type": "code",
   "source": [
    "# Replace 'YOUR_FOLDER_ID' with the actual folder ID from your shared link\n",
    "#folder_id = '1-vUl8S62FJJBKYnJPdFYm2o3FHUpcqVb'\n",
    "\n",
    "# Access the folder in Google Drive\n",
    "folder_path = '/content/drive/MyDrive/SIS_23'"
   ],
   "metadata": {
    "id": "FDrr1VbW2Zdy"
   },
   "execution_count": null,
   "outputs": []
  },
  {
   "cell_type": "code",
   "source": [
    "brain_tumor_data = pd.read_csv(folder_path+'/braintumor.csv')\n",
    "brain_tumor_data.shape"
   ],
   "metadata": {
    "colab": {
     "base_uri": "https://localhost:8080/"
    },
    "id": "WnIGkSjg41ZH",
    "outputId": "d84ffb84-28c2-4c51-978e-a40aad2af78a"
   },
   "execution_count": null,
   "outputs": [
    {
     "output_type": "execute_result",
     "data": {
      "text/plain": [
       "(3762, 15)"
      ]
     },
     "metadata": {},
     "execution_count": 20
    }
   ]
  },
  {
   "cell_type": "code",
   "source": [
    "brain_tumor_data.head(5)"
   ],
   "metadata": {
    "id": "ZAVv6yuPptDH",
    "colab": {
     "base_uri": "https://localhost:8080/",
     "height": 330
    },
    "outputId": "73e7bb6f-59bf-4ffb-e7c1-fbb299dd5fba"
   },
   "execution_count": null,
   "outputs": [
    {
     "output_type": "execute_result",
     "data": {
      "text/plain": [
       "    Image  Class      Mean     Variance  Standard Deviation   Entropy  \\\n",
       "0  Image1      0  6.535339   619.587845           24.891522  0.109059   \n",
       "1  Image2      0  8.749969   805.957634           28.389393  0.266538   \n",
       "2  Image3      1  7.341095  1143.808219           33.820234  0.001467   \n",
       "3  Image4      1  5.958145   959.711985           30.979219  0.001477   \n",
       "4  Image5      0  7.315231   729.540579           27.010009  0.146761   \n",
       "\n",
       "   Skewness   Kurtosis    Contrast    Energy       ASM  Homogeneity  \\\n",
       "0  4.276477  18.900575   98.613971  0.293314  0.086033     0.530941   \n",
       "1  3.718116  14.464618   63.858816  0.475051  0.225674     0.651352   \n",
       "2  5.061750  26.479563   81.867206  0.031917  0.001019     0.268275   \n",
       "3  5.677977  33.428845  151.229741  0.032024  0.001026     0.243851   \n",
       "4  4.283221  19.079108  174.988756  0.343849  0.118232     0.501140   \n",
       "\n",
       "   Dissimilarity  Correlation     Coarseness  \n",
       "0       4.473346     0.981939  7.458341e-155  \n",
       "1       3.220072     0.988834  7.458341e-155  \n",
       "2       5.981800     0.978014  7.458341e-155  \n",
       "3       7.700919     0.964189  7.458341e-155  \n",
       "4       6.834689     0.972789  7.458341e-155  "
      ],
      "text/html": [
       "\n",
       "  <div id=\"df-256d538d-a281-4d1e-8da8-b53cbc3623d4\" class=\"colab-df-container\">\n",
       "    <div>\n",
       "<style scoped>\n",
       "    .dataframe tbody tr th:only-of-type {\n",
       "        vertical-align: middle;\n",
       "    }\n",
       "\n",
       "    .dataframe tbody tr th {\n",
       "        vertical-align: top;\n",
       "    }\n",
       "\n",
       "    .dataframe thead th {\n",
       "        text-align: right;\n",
       "    }\n",
       "</style>\n",
       "<table border=\"1\" class=\"dataframe\">\n",
       "  <thead>\n",
       "    <tr style=\"text-align: right;\">\n",
       "      <th></th>\n",
       "      <th>Image</th>\n",
       "      <th>Class</th>\n",
       "      <th>Mean</th>\n",
       "      <th>Variance</th>\n",
       "      <th>Standard Deviation</th>\n",
       "      <th>Entropy</th>\n",
       "      <th>Skewness</th>\n",
       "      <th>Kurtosis</th>\n",
       "      <th>Contrast</th>\n",
       "      <th>Energy</th>\n",
       "      <th>ASM</th>\n",
       "      <th>Homogeneity</th>\n",
       "      <th>Dissimilarity</th>\n",
       "      <th>Correlation</th>\n",
       "      <th>Coarseness</th>\n",
       "    </tr>\n",
       "  </thead>\n",
       "  <tbody>\n",
       "    <tr>\n",
       "      <th>0</th>\n",
       "      <td>Image1</td>\n",
       "      <td>0</td>\n",
       "      <td>6.535339</td>\n",
       "      <td>619.587845</td>\n",
       "      <td>24.891522</td>\n",
       "      <td>0.109059</td>\n",
       "      <td>4.276477</td>\n",
       "      <td>18.900575</td>\n",
       "      <td>98.613971</td>\n",
       "      <td>0.293314</td>\n",
       "      <td>0.086033</td>\n",
       "      <td>0.530941</td>\n",
       "      <td>4.473346</td>\n",
       "      <td>0.981939</td>\n",
       "      <td>7.458341e-155</td>\n",
       "    </tr>\n",
       "    <tr>\n",
       "      <th>1</th>\n",
       "      <td>Image2</td>\n",
       "      <td>0</td>\n",
       "      <td>8.749969</td>\n",
       "      <td>805.957634</td>\n",
       "      <td>28.389393</td>\n",
       "      <td>0.266538</td>\n",
       "      <td>3.718116</td>\n",
       "      <td>14.464618</td>\n",
       "      <td>63.858816</td>\n",
       "      <td>0.475051</td>\n",
       "      <td>0.225674</td>\n",
       "      <td>0.651352</td>\n",
       "      <td>3.220072</td>\n",
       "      <td>0.988834</td>\n",
       "      <td>7.458341e-155</td>\n",
       "    </tr>\n",
       "    <tr>\n",
       "      <th>2</th>\n",
       "      <td>Image3</td>\n",
       "      <td>1</td>\n",
       "      <td>7.341095</td>\n",
       "      <td>1143.808219</td>\n",
       "      <td>33.820234</td>\n",
       "      <td>0.001467</td>\n",
       "      <td>5.061750</td>\n",
       "      <td>26.479563</td>\n",
       "      <td>81.867206</td>\n",
       "      <td>0.031917</td>\n",
       "      <td>0.001019</td>\n",
       "      <td>0.268275</td>\n",
       "      <td>5.981800</td>\n",
       "      <td>0.978014</td>\n",
       "      <td>7.458341e-155</td>\n",
       "    </tr>\n",
       "    <tr>\n",
       "      <th>3</th>\n",
       "      <td>Image4</td>\n",
       "      <td>1</td>\n",
       "      <td>5.958145</td>\n",
       "      <td>959.711985</td>\n",
       "      <td>30.979219</td>\n",
       "      <td>0.001477</td>\n",
       "      <td>5.677977</td>\n",
       "      <td>33.428845</td>\n",
       "      <td>151.229741</td>\n",
       "      <td>0.032024</td>\n",
       "      <td>0.001026</td>\n",
       "      <td>0.243851</td>\n",
       "      <td>7.700919</td>\n",
       "      <td>0.964189</td>\n",
       "      <td>7.458341e-155</td>\n",
       "    </tr>\n",
       "    <tr>\n",
       "      <th>4</th>\n",
       "      <td>Image5</td>\n",
       "      <td>0</td>\n",
       "      <td>7.315231</td>\n",
       "      <td>729.540579</td>\n",
       "      <td>27.010009</td>\n",
       "      <td>0.146761</td>\n",
       "      <td>4.283221</td>\n",
       "      <td>19.079108</td>\n",
       "      <td>174.988756</td>\n",
       "      <td>0.343849</td>\n",
       "      <td>0.118232</td>\n",
       "      <td>0.501140</td>\n",
       "      <td>6.834689</td>\n",
       "      <td>0.972789</td>\n",
       "      <td>7.458341e-155</td>\n",
       "    </tr>\n",
       "  </tbody>\n",
       "</table>\n",
       "</div>\n",
       "    <div class=\"colab-df-buttons\">\n",
       "\n",
       "  <div class=\"colab-df-container\">\n",
       "    <button class=\"colab-df-convert\" onclick=\"convertToInteractive('df-256d538d-a281-4d1e-8da8-b53cbc3623d4')\"\n",
       "            title=\"Convert this dataframe to an interactive table.\"\n",
       "            style=\"display:none;\">\n",
       "\n",
       "  <svg xmlns=\"http://www.w3.org/2000/svg\" height=\"24px\" viewBox=\"0 -960 960 960\">\n",
       "    <path d=\"M120-120v-720h720v720H120Zm60-500h600v-160H180v160Zm220 220h160v-160H400v160Zm0 220h160v-160H400v160ZM180-400h160v-160H180v160Zm440 0h160v-160H620v160ZM180-180h160v-160H180v160Zm440 0h160v-160H620v160Z\"/>\n",
       "  </svg>\n",
       "    </button>\n",
       "\n",
       "  <style>\n",
       "    .colab-df-container {\n",
       "      display:flex;\n",
       "      gap: 12px;\n",
       "    }\n",
       "\n",
       "    .colab-df-convert {\n",
       "      background-color: #E8F0FE;\n",
       "      border: none;\n",
       "      border-radius: 50%;\n",
       "      cursor: pointer;\n",
       "      display: none;\n",
       "      fill: #1967D2;\n",
       "      height: 32px;\n",
       "      padding: 0 0 0 0;\n",
       "      width: 32px;\n",
       "    }\n",
       "\n",
       "    .colab-df-convert:hover {\n",
       "      background-color: #E2EBFA;\n",
       "      box-shadow: 0px 1px 2px rgba(60, 64, 67, 0.3), 0px 1px 3px 1px rgba(60, 64, 67, 0.15);\n",
       "      fill: #174EA6;\n",
       "    }\n",
       "\n",
       "    .colab-df-buttons div {\n",
       "      margin-bottom: 4px;\n",
       "    }\n",
       "\n",
       "    [theme=dark] .colab-df-convert {\n",
       "      background-color: #3B4455;\n",
       "      fill: #D2E3FC;\n",
       "    }\n",
       "\n",
       "    [theme=dark] .colab-df-convert:hover {\n",
       "      background-color: #434B5C;\n",
       "      box-shadow: 0px 1px 3px 1px rgba(0, 0, 0, 0.15);\n",
       "      filter: drop-shadow(0px 1px 2px rgba(0, 0, 0, 0.3));\n",
       "      fill: #FFFFFF;\n",
       "    }\n",
       "  </style>\n",
       "\n",
       "    <script>\n",
       "      const buttonEl =\n",
       "        document.querySelector('#df-256d538d-a281-4d1e-8da8-b53cbc3623d4 button.colab-df-convert');\n",
       "      buttonEl.style.display =\n",
       "        google.colab.kernel.accessAllowed ? 'block' : 'none';\n",
       "\n",
       "      async function convertToInteractive(key) {\n",
       "        const element = document.querySelector('#df-256d538d-a281-4d1e-8da8-b53cbc3623d4');\n",
       "        const dataTable =\n",
       "          await google.colab.kernel.invokeFunction('convertToInteractive',\n",
       "                                                    [key], {});\n",
       "        if (!dataTable) return;\n",
       "\n",
       "        const docLinkHtml = 'Like what you see? Visit the ' +\n",
       "          '<a target=\"_blank\" href=https://colab.research.google.com/notebooks/data_table.ipynb>data table notebook</a>'\n",
       "          + ' to learn more about interactive tables.';\n",
       "        element.innerHTML = '';\n",
       "        dataTable['output_type'] = 'display_data';\n",
       "        await google.colab.output.renderOutput(dataTable, element);\n",
       "        const docLink = document.createElement('div');\n",
       "        docLink.innerHTML = docLinkHtml;\n",
       "        element.appendChild(docLink);\n",
       "      }\n",
       "    </script>\n",
       "  </div>\n",
       "\n",
       "\n",
       "<div id=\"df-b74729c7-cae4-4e75-aa79-2cbabdfe0d27\">\n",
       "  <button class=\"colab-df-quickchart\" onclick=\"quickchart('df-b74729c7-cae4-4e75-aa79-2cbabdfe0d27')\"\n",
       "            title=\"Suggest charts\"\n",
       "            style=\"display:none;\">\n",
       "\n",
       "<svg xmlns=\"http://www.w3.org/2000/svg\" height=\"24px\"viewBox=\"0 0 24 24\"\n",
       "     width=\"24px\">\n",
       "    <g>\n",
       "        <path d=\"M19 3H5c-1.1 0-2 .9-2 2v14c0 1.1.9 2 2 2h14c1.1 0 2-.9 2-2V5c0-1.1-.9-2-2-2zM9 17H7v-7h2v7zm4 0h-2V7h2v10zm4 0h-2v-4h2v4z\"/>\n",
       "    </g>\n",
       "</svg>\n",
       "  </button>\n",
       "\n",
       "<style>\n",
       "  .colab-df-quickchart {\n",
       "      --bg-color: #E8F0FE;\n",
       "      --fill-color: #1967D2;\n",
       "      --hover-bg-color: #E2EBFA;\n",
       "      --hover-fill-color: #174EA6;\n",
       "      --disabled-fill-color: #AAA;\n",
       "      --disabled-bg-color: #DDD;\n",
       "  }\n",
       "\n",
       "  [theme=dark] .colab-df-quickchart {\n",
       "      --bg-color: #3B4455;\n",
       "      --fill-color: #D2E3FC;\n",
       "      --hover-bg-color: #434B5C;\n",
       "      --hover-fill-color: #FFFFFF;\n",
       "      --disabled-bg-color: #3B4455;\n",
       "      --disabled-fill-color: #666;\n",
       "  }\n",
       "\n",
       "  .colab-df-quickchart {\n",
       "    background-color: var(--bg-color);\n",
       "    border: none;\n",
       "    border-radius: 50%;\n",
       "    cursor: pointer;\n",
       "    display: none;\n",
       "    fill: var(--fill-color);\n",
       "    height: 32px;\n",
       "    padding: 0;\n",
       "    width: 32px;\n",
       "  }\n",
       "\n",
       "  .colab-df-quickchart:hover {\n",
       "    background-color: var(--hover-bg-color);\n",
       "    box-shadow: 0 1px 2px rgba(60, 64, 67, 0.3), 0 1px 3px 1px rgba(60, 64, 67, 0.15);\n",
       "    fill: var(--button-hover-fill-color);\n",
       "  }\n",
       "\n",
       "  .colab-df-quickchart-complete:disabled,\n",
       "  .colab-df-quickchart-complete:disabled:hover {\n",
       "    background-color: var(--disabled-bg-color);\n",
       "    fill: var(--disabled-fill-color);\n",
       "    box-shadow: none;\n",
       "  }\n",
       "\n",
       "  .colab-df-spinner {\n",
       "    border: 2px solid var(--fill-color);\n",
       "    border-color: transparent;\n",
       "    border-bottom-color: var(--fill-color);\n",
       "    animation:\n",
       "      spin 1s steps(1) infinite;\n",
       "  }\n",
       "\n",
       "  @keyframes spin {\n",
       "    0% {\n",
       "      border-color: transparent;\n",
       "      border-bottom-color: var(--fill-color);\n",
       "      border-left-color: var(--fill-color);\n",
       "    }\n",
       "    20% {\n",
       "      border-color: transparent;\n",
       "      border-left-color: var(--fill-color);\n",
       "      border-top-color: var(--fill-color);\n",
       "    }\n",
       "    30% {\n",
       "      border-color: transparent;\n",
       "      border-left-color: var(--fill-color);\n",
       "      border-top-color: var(--fill-color);\n",
       "      border-right-color: var(--fill-color);\n",
       "    }\n",
       "    40% {\n",
       "      border-color: transparent;\n",
       "      border-right-color: var(--fill-color);\n",
       "      border-top-color: var(--fill-color);\n",
       "    }\n",
       "    60% {\n",
       "      border-color: transparent;\n",
       "      border-right-color: var(--fill-color);\n",
       "    }\n",
       "    80% {\n",
       "      border-color: transparent;\n",
       "      border-right-color: var(--fill-color);\n",
       "      border-bottom-color: var(--fill-color);\n",
       "    }\n",
       "    90% {\n",
       "      border-color: transparent;\n",
       "      border-bottom-color: var(--fill-color);\n",
       "    }\n",
       "  }\n",
       "</style>\n",
       "\n",
       "  <script>\n",
       "    async function quickchart(key) {\n",
       "      const quickchartButtonEl =\n",
       "        document.querySelector('#' + key + ' button');\n",
       "      quickchartButtonEl.disabled = true;  // To prevent multiple clicks.\n",
       "      quickchartButtonEl.classList.add('colab-df-spinner');\n",
       "      try {\n",
       "        const charts = await google.colab.kernel.invokeFunction(\n",
       "            'suggestCharts', [key], {});\n",
       "      } catch (error) {\n",
       "        console.error('Error during call to suggestCharts:', error);\n",
       "      }\n",
       "      quickchartButtonEl.classList.remove('colab-df-spinner');\n",
       "      quickchartButtonEl.classList.add('colab-df-quickchart-complete');\n",
       "    }\n",
       "    (() => {\n",
       "      let quickchartButtonEl =\n",
       "        document.querySelector('#df-b74729c7-cae4-4e75-aa79-2cbabdfe0d27 button');\n",
       "      quickchartButtonEl.style.display =\n",
       "        google.colab.kernel.accessAllowed ? 'block' : 'none';\n",
       "    })();\n",
       "  </script>\n",
       "</div>\n",
       "    </div>\n",
       "  </div>\n"
      ]
     },
     "metadata": {},
     "execution_count": 21
    }
   ]
  },
  {
   "cell_type": "code",
   "source": [
    "brain_tumor_data.columns"
   ],
   "metadata": {
    "id": "5A1TRW_Uquhb",
    "colab": {
     "base_uri": "https://localhost:8080/"
    },
    "outputId": "479edc3f-de3a-4b8b-b7cf-6cf1e8405908"
   },
   "execution_count": null,
   "outputs": [
    {
     "output_type": "execute_result",
     "data": {
      "text/plain": [
       "Index(['Image', 'Class', 'Mean', 'Variance', 'Standard Deviation', 'Entropy',\n",
       "       'Skewness', 'Kurtosis', 'Contrast', 'Energy', 'ASM', 'Homogeneity',\n",
       "       'Dissimilarity', 'Correlation', 'Coarseness'],\n",
       "      dtype='object')"
      ]
     },
     "metadata": {},
     "execution_count": 22
    }
   ]
  },
  {
   "cell_type": "code",
   "source": [
    "brain_tumor_data.dtypes"
   ],
   "metadata": {
    "colab": {
     "base_uri": "https://localhost:8080/"
    },
    "id": "_D3b1NmjZ7y3",
    "outputId": "8f2dae58-903c-4e4c-9581-4c67959d2f27"
   },
   "execution_count": null,
   "outputs": [
    {
     "output_type": "execute_result",
     "data": {
      "text/plain": [
       "Image                  object\n",
       "Class                   int64\n",
       "Mean                  float64\n",
       "Variance              float64\n",
       "Standard Deviation    float64\n",
       "Entropy               float64\n",
       "Skewness              float64\n",
       "Kurtosis              float64\n",
       "Contrast              float64\n",
       "Energy                float64\n",
       "ASM                   float64\n",
       "Homogeneity           float64\n",
       "Dissimilarity         float64\n",
       "Correlation           float64\n",
       "Coarseness            float64\n",
       "dtype: object"
      ]
     },
     "metadata": {},
     "execution_count": 23
    }
   ]
  },
  {
   "cell_type": "code",
   "source": [
    "feature_columns = ['Mean', 'Variance', 'Standard Deviation', 'Entropy',\n",
    "       'Skewness', 'Kurtosis', 'Contrast', 'Energy', 'ASM', 'Homogeneity',\n",
    "       'Dissimilarity', 'Correlation', 'Coarseness']\n",
    "predicted_column = \"Class\"\n",
    "\n",
    "X_train, X_test, y_train, y_test = train_test_split(brain_tumor_data[feature_columns], brain_tumor_data[predicted_column], test_size=0.2, random_state=42)"
   ],
   "metadata": {
    "id": "g2uILbQyqAd8"
   },
   "execution_count": null,
   "outputs": []
  },
  {
   "cell_type": "code",
   "source": [
    "#xgb_clf = xgb.XGBClassifier()\n",
    "#xgb_clf.fit(X_train, y_train)\n",
    "\n",
    "log_reg = LogisticRegression(max_iter=10000)\n",
    "log_reg.fit(X_train, y_train)\n",
    "\n",
    "# Make predictions on the test set\n",
    "#y_pred = xgb_clf.predict(X_test)\n",
    "y_pred = log_reg.predict(X_test)\n",
    "\n",
    "# Evaluate the model\n",
    "accuracy = accuracy_score(y_test, y_pred)\n",
    "print(f\"Accuracy: {accuracy:.2f}\")"
   ],
   "metadata": {
    "id": "8igwnvlZqB29",
    "colab": {
     "base_uri": "https://localhost:8080/"
    },
    "outputId": "e075a3fa-f03c-4bef-ad99-8229440aef23"
   },
   "execution_count": null,
   "outputs": [
    {
     "output_type": "stream",
     "name": "stdout",
     "text": [
      "Accuracy: 0.97\n"
     ]
    }
   ]
  },
  {
   "cell_type": "code",
   "source": [
    "# Display the classification report\n",
    "print(\"Classification Report:\\n\", classification_report(y_test, y_pred))\n"
   ],
   "metadata": {
    "id": "3E3eZxEusf8h",
    "colab": {
     "base_uri": "https://localhost:8080/"
    },
    "outputId": "30b5cbb6-c914-46b2-c7d1-d80bb7f89452"
   },
   "execution_count": null,
   "outputs": [
    {
     "output_type": "stream",
     "name": "stdout",
     "text": [
      "Classification Report:\n",
      "               precision    recall  f1-score   support\n",
      "\n",
      "           0       0.96      1.00      0.98       419\n",
      "           1       0.99      0.95      0.97       334\n",
      "\n",
      "    accuracy                           0.97       753\n",
      "   macro avg       0.98      0.97      0.97       753\n",
      "weighted avg       0.98      0.97      0.97       753\n",
      "\n"
     ]
    }
   ]
  },
  {
   "cell_type": "code",
   "source": [
    "from cleanlab.classification import CleanLearning\n",
    "\n",
    "#xgb_clf_cleanlab = CleanLearning(clf=xgb.XGBClassifier())\n",
    "log_reg_clean = CleanLearning(clf=LogisticRegression(max_iter=10000))\n",
    "\n",
    "# Fit the model to the data (this will also clean the noisy labels)\n",
    "#xgb_clf_cleanlab.fit(X_train, y_train)\n",
    "log_reg_clean.fit(X_train, y_train)\n",
    "\n",
    "# Predict with the trained model\n",
    "#y_pred_cleaned = xgb_clf_cleanlab.predict(X_test)\n",
    "y_pred_cleaned = log_reg_clean.predict(X_test)\n",
    "\n",
    "# Evaluate the model on the cleaned test set\n",
    "accuracy_cleaned = accuracy_score(y_test, y_pred_cleaned)\n",
    "print(f\"Accuracy on the cleaned test set: {accuracy_cleaned:.2f}\")\n",
    "\n",
    "# Display the classification report\n",
    "print(\"Classification Report on the cleaned test set:\\n\", classification_report(y_test, y_pred_cleaned))"
   ],
   "metadata": {
    "id": "rndfMpPIs26a",
    "colab": {
     "base_uri": "https://localhost:8080/"
    },
    "outputId": "3ab258a9-c8b7-43b8-dc89-086245f212e7"
   },
   "execution_count": null,
   "outputs": [
    {
     "output_type": "stream",
     "name": "stdout",
     "text": [
      "Accuracy on the cleaned test set: 0.97\n",
      "Classification Report on the cleaned test set:\n",
      "               precision    recall  f1-score   support\n",
      "\n",
      "           0       0.96      0.99      0.98       419\n",
      "           1       0.99      0.95      0.97       334\n",
      "\n",
      "    accuracy                           0.97       753\n",
      "   macro avg       0.98      0.97      0.97       753\n",
      "weighted avg       0.97      0.97      0.97       753\n",
      "\n"
     ]
    }
   ]
  },
  {
   "cell_type": "markdown",
   "source": [
    "We did not observe much increase in this data set with Cleanlab as probably dataset is already clean. Or maybe we need to play more with filters."
   ],
   "metadata": {
    "id": "77knxd2gZSEh"
   }
  },
  {
   "cell_type": "code",
   "source": [
    "# Lets now use the Braintumor data with synthetic error"
   ],
   "metadata": {
    "id": "2zNK78wEYRFs"
   },
   "execution_count": null,
   "outputs": []
  },
  {
   "cell_type": "code",
   "source": [
    "brain_tumor_synthnoise = pd.read_csv(folder_path+'/braintumor_w_syntheticnoise.csv')\n",
    "brain_tumor_synthnoise.shape\n",
    "brain_tumor_synthnoise['Class'] = brain_tumor_synthnoise['Class'].astype('int64')\n",
    "\n",
    "\n",
    "# create X_train, X_test, y_train, y_test for noisy data\n",
    "X_train, X_test, y_train, y_test = train_test_split(brain_tumor_synthnoise[feature_columns], brain_tumor_synthnoise[predicted_column], test_size=0.2, random_state=42)"
   ],
   "metadata": {
    "id": "OEdOeIOeYZzR"
   },
   "execution_count": null,
   "outputs": []
  },
  {
   "cell_type": "code",
   "source": [
    "log_reg = LogisticRegression(max_iter=10000)\n",
    "log_reg.fit(X_train, y_train)\n",
    "\n",
    "# Make predictions on the test set\n",
    "y_pred = log_reg.predict(X_test)\n",
    "\n",
    "# Evaluate the model\n",
    "accuracy = accuracy_score(y_test, y_pred)\n",
    "print(f\"Accuracy: {accuracy:.2f}\")"
   ],
   "metadata": {
    "colab": {
     "base_uri": "https://localhost:8080/"
    },
    "id": "jUixJ0MVYyYc",
    "outputId": "c9dd7e6d-3f34-43b4-8c34-0eb3efdeea5b"
   },
   "execution_count": null,
   "outputs": [
    {
     "output_type": "stream",
     "name": "stdout",
     "text": [
      "Accuracy: 0.77\n"
     ]
    }
   ]
  },
  {
   "cell_type": "markdown",
   "source": [
    " We can see that with the current noise the accuracy decreased from 0.97 to 0.77"
   ],
   "metadata": {
    "id": "aUti8EizZL96"
   }
  },
  {
   "cell_type": "code",
   "source": [
    "## Now let's apply the same prediction with cleanlab wrapped version\n",
    "\n",
    "from cleanlab.classification import CleanLearning\n",
    "\n",
    "#xgb_clf_cleanlab = CleanLearning(clf=xgb.XGBClassifier())\n",
    "log_reg_clean = CleanLearning(clf=LogisticRegression(max_iter=10000))\n",
    "\n",
    "# Fit the model to the data (this will also clean the noisy labels)\n",
    "log_reg_clean.fit(X_train, y_train)\n",
    "\n",
    "# Predict with the trained model\n",
    "y_pred_cleaned = log_reg_clean.predict(X_test)\n",
    "\n",
    "# Evaluate the model on the cleaned test set\n",
    "accuracy_cleaned = accuracy_score(y_test, y_pred_cleaned)\n",
    "print(f\"Accuracy on the cleaned test set: {accuracy_cleaned:.2f}\")\n",
    "\n",
    "# Display the classification report\n",
    "print(\"Classification Report on the cleaned test set:\\n\", classification_report(y_test, y_pred_cleaned))"
   ],
   "metadata": {
    "colab": {
     "base_uri": "https://localhost:8080/"
    },
    "id": "zPTMlsTQZTkI",
    "outputId": "efad8e63-8cfe-4492-f6fd-775e7f57e432"
   },
   "execution_count": null,
   "outputs": [
    {
     "output_type": "stream",
     "name": "stdout",
     "text": [
      "Accuracy on the cleaned test set: 0.77\n",
      "Classification Report on the cleaned test set:\n",
      "               precision    recall  f1-score   support\n",
      "\n",
      "           0       0.76      0.83      0.79       396\n",
      "           1       0.79      0.71      0.75       357\n",
      "\n",
      "    accuracy                           0.77       753\n",
      "   macro avg       0.78      0.77      0.77       753\n",
      "weighted avg       0.77      0.77      0.77       753\n",
      "\n"
     ]
    }
   ]
  },
  {
   "cell_type": "markdown",
   "source": [
    "We see an increase in accuracy from 0.77 to 0.78 but relatively small. However we can try to further optimize with cleanlab hyperparameter tuning."
   ],
   "metadata": {
    "id": "I3094dsyb8pR"
   }
  },
  {
   "cell_type": "code",
   "source": [
    "from sklearn.model_selection import GridSearchCV\n",
    "\n",
    "# Define parameter grid for grid search\n",
    "param_grid = {\n",
    "    'C': [0.001, 0.01, 0.1, 1, 10, 100],\n",
    "    'penalty': ['l1', 'l2'],\n",
    "    'solver': ['liblinear', 'saga']\n",
    "}\n",
    "\n",
    "# Create Logistic Regression model\n",
    "log_reg = LogisticRegression(max_iter=10000)\n",
    "\n",
    "# Perform grid search to find optimal hyperparameters\n",
    "grid_search = GridSearchCV(log_reg, param_grid, cv=5)\n",
    "grid_search.fit(X_train, y_train)\n",
    "\n",
    "# Get best hyperparameters\n",
    "best_params = grid_search.best_params_\n",
    "\n",
    "# Create CleanLearning model with best hyperparameters\n",
    "log_reg_clean = CleanLearning(clf=LogisticRegression(**best_params))\n",
    "\n",
    "# Fit the model to the data (this will also clean the noisy labels)\n",
    "log_reg_clean.fit(X_train, y_train)\n",
    "\n",
    "# Predict with the trained model\n",
    "y_pred_cleaned = log_reg_clean.predict(X_test)\n",
    "\n",
    "# Evaluate the model on the cleaned test set\n",
    "accuracy_cleaned = accuracy_score(y_test, y_pred_cleaned)\n",
    "print(f\"Accuracy on the cleaned test set: {accuracy_cleaned:.2f}\")\n",
    "\n",
    "# Display the classification report\n",
    "print(\"Classification Report on the cleaned test set:\\n\", classification_report(y_test, y_pred_cleaned))"
   ],
   "metadata": {
    "colab": {
     "base_uri": "https://localhost:8080/"
    },
    "id": "m_VH3zuBcPJp",
    "outputId": "73cffa45-f4f6-4435-e3f0-394503d1e241"
   },
   "execution_count": null,
   "outputs": [
    {
     "output_type": "stream",
     "name": "stdout",
     "text": [
      "Accuracy on the cleaned test set: 0.79\n",
      "Classification Report on the cleaned test set:\n",
      "               precision    recall  f1-score   support\n",
      "\n",
      "           0       0.78      0.84      0.81       396\n",
      "           1       0.80      0.73      0.77       357\n",
      "\n",
      "    accuracy                           0.79       753\n",
      "   macro avg       0.79      0.79      0.79       753\n",
      "weighted avg       0.79      0.79      0.79       753\n",
      "\n"
     ]
    }
   ]
  },
  {
   "cell_type": "markdown",
   "source": [
    "We see a slight increase from 0.77 to 0.79 with grid search"
   ],
   "metadata": {
    "id": "G-0Qzt3-jfPN"
   }
  },
  {
   "cell_type": "code",
   "source": [
    "# let's also try with XGBoost"
   ],
   "metadata": {
    "id": "vog7a76iiprT"
   },
   "execution_count": null,
   "outputs": []
  },
  {
   "cell_type": "code",
   "source": [
    "# Create an XGBoost classifier\n",
    "xgb_clf = xgb.XGBClassifier()\n",
    "\n",
    "# Train the model\n",
    "xgb_clf.fit(X_train, y_train)\n",
    "\n",
    "# Make predictions on the test set\n",
    "y_pred = xgb_clf.predict(X_test)\n",
    "\n",
    "# Evaluate the model\n",
    "accuracy = accuracy_score(y_test, y_pred)\n",
    "print(f\"Accuracy: {accuracy:.2f}\")"
   ],
   "metadata": {
    "colab": {
     "base_uri": "https://localhost:8080/"
    },
    "id": "Y8pRxkRSitLO",
    "outputId": "e91c185e-1f09-4c3c-9dad-f7aa04b84e2a"
   },
   "execution_count": null,
   "outputs": [
    {
     "output_type": "stream",
     "name": "stdout",
     "text": [
      "Accuracy: 0.76\n"
     ]
    }
   ]
  },
  {
   "cell_type": "code",
   "source": [
    "# Create CleanLearning model with XGBoost as the base classifier\n",
    "xgb_clf_cleanlab = CleanLearning(clf=xgb.XGBClassifier())\n",
    "\n",
    "# Fit the model to the data (this will also clean the noisy labels)\n",
    "xgb_clf_cleanlab.fit(X_train, y_train)\n",
    "\n",
    "# Predict with the trained model\n",
    "y_pred_cleaned = xgb_clf_cleanlab.predict(X_test)\n",
    "\n",
    "# Evaluate the model on the cleaned test set\n",
    "accuracy_cleaned = accuracy_score(y_test, y_pred_cleaned)\n",
    "print(f\"Accuracy on the cleaned test set: {accuracy_cleaned:.2f}\")"
   ],
   "metadata": {
    "colab": {
     "base_uri": "https://localhost:8080/"
    },
    "id": "UH6yaBMriupf",
    "outputId": "efa0e9c4-6def-4dac-8399-bd5c02b0e480"
   },
   "execution_count": null,
   "outputs": [
    {
     "output_type": "stream",
     "name": "stdout",
     "text": [
      "Accuracy on the cleaned test set: 0.79\n"
     ]
    }
   ]
  },
  {
   "cell_type": "markdown",
   "source": [
    "We see better increase in model performance with cleanlab in XGBoost"
   ],
   "metadata": {
    "id": "dsybaskOk7zJ"
   }
  },
  {
   "cell_type": "markdown",
   "source": [
    "### 5.1.3 Multi Class - Financial Textual Dataset"
   ],
   "metadata": {
    "id": "AlHWWGZXfEKH"
   }
  },
  {
   "cell_type": "markdown",
   "source": [
    "We will further apply this library on this financial textual data set: https://www.kaggle.com/datasets/sulphatet/twitter-financial-news/data"
   ],
   "metadata": {
    "id": "b_Mdxx3lfKGT"
   }
  },
  {
   "cell_type": "markdown",
   "source": [
    "### 5.1.3. Multi Class - CIFAR Image Dataset"
   ],
   "metadata": {
    "id": "_7EmQ9DXXyWC"
   }
  },
  {
   "cell_type": "code",
   "source": [
    "# This dataset just provides the respective labels with different levels of noise\n",
    "\n",
    "data_cifar = np.load(folder_path+'/cifar-10-100n-main/data/CIFAR-10_human.npy',allow_pickle=True)\n",
    "data_cifar = data_cifar.item()"
   ],
   "metadata": {
    "id": "R0PC1B47X4ua"
   },
   "execution_count": null,
   "outputs": []
  },
  {
   "cell_type": "code",
   "source": [
    "# All the different label spaces with diffrerent amounts of noise, we will use worse for now!\n",
    "cifar_clean_label = np.array(data_cifar['clean_label']).reshape(-1, 1)\n",
    "cifar_aggre_label = np.array(data_cifar['aggre_label']).reshape(-1, 1)\n",
    "cifar_worse_label = np.array(data_cifar['worse_label']).reshape(-1, 1)\n",
    "cifar_random_label1 = np.array(data_cifar['random_label1']).reshape(-1, 1)\n",
    "cifar_random_label2 = np.array(data_cifar['random_label2']).reshape(-1, 1)"
   ],
   "metadata": {
    "id": "DgD9CDSNX5vR"
   },
   "execution_count": null,
   "outputs": []
  },
  {
   "cell_type": "code",
   "source": [
    "# Training & test images can be imported through tensorflow -> Clean labels!\n",
    "\n",
    "(cifar_train_images, cifar_train_labels), (cifar_test_images, cifar_test_labels) = cifar10.load_data()"
   ],
   "metadata": {
    "id": "vUJ0ASIOX6Og"
   },
   "execution_count": null,
   "outputs": []
  },
  {
   "cell_type": "code",
   "source": [
    "# Normalize pixel values for model and convert labels to one hot encoding\n",
    "\n",
    "cifar_train_images, cifar_test_images = cifar_train_images / 255.0, cifar_test_images / 255.0\n",
    "\n",
    "# Noisy training labels\n",
    "cifar_train_labels = to_categorical(cifar_worse_label, 10)\n",
    "# Clean testing labels\n",
    "cifar_test_labels = to_categorical(cifar_test_labels, 10)"
   ],
   "metadata": {
    "id": "uYEJ6Bx5ZMFy"
   },
   "execution_count": null,
   "outputs": []
  },
  {
   "cell_type": "code",
   "source": [
    "# Create model architecture\n",
    "\n",
    "# Create CNN model\n",
    "model = models.Sequential()\n",
    "\n",
    "# Convolutional layers\n",
    "model.add(layers.Conv2D(32, (3, 3), activation='relu', input_shape=(32, 32, 3)))\n",
    "model.add(layers.MaxPooling2D((2, 2)))\n",
    "model.add(layers.Conv2D(64, (3, 3), activation='relu'))\n",
    "model.add(layers.MaxPooling2D((2, 2)))\n",
    "\n",
    "# Flatten layer\n",
    "model.add(layers.Flatten())\n",
    "\n",
    "# Dense layers --> 10 class classification\n",
    "model.add(layers.Dense(64, activation='relu'))\n",
    "model.add(layers.Dense(10, activation='softmax'))\n",
    "\n",
    "# Compile the model\n",
    "model.compile(optimizer='adam',\n",
    "              loss='categorical_crossentropy',\n",
    "              metrics=['accuracy'])\n",
    "\n",
    "# Model odel summary\n",
    "model.summary()"
   ],
   "metadata": {
    "colab": {
     "base_uri": "https://localhost:8080/"
    },
    "id": "BC1uyn_oZlaL",
    "outputId": "d0380c3e-9269-4d18-d150-7e010ba79f15"
   },
   "execution_count": null,
   "outputs": [
    {
     "output_type": "stream",
     "name": "stdout",
     "text": [
      "Model: \"sequential\"\n",
      "_________________________________________________________________\n",
      " Layer (type)                Output Shape              Param #   \n",
      "=================================================================\n",
      " conv2d (Conv2D)             (None, 30, 30, 32)        896       \n",
      "                                                                 \n",
      " max_pooling2d (MaxPooling2  (None, 15, 15, 32)        0         \n",
      " D)                                                              \n",
      "                                                                 \n",
      " conv2d_1 (Conv2D)           (None, 13, 13, 64)        18496     \n",
      "                                                                 \n",
      " max_pooling2d_1 (MaxPoolin  (None, 6, 6, 64)          0         \n",
      " g2D)                                                            \n",
      "                                                                 \n",
      " flatten (Flatten)           (None, 2304)              0         \n",
      "                                                                 \n",
      " dense (Dense)               (None, 64)                147520    \n",
      "                                                                 \n",
      " dense_1 (Dense)             (None, 10)                650       \n",
      "                                                                 \n",
      "=================================================================\n",
      "Total params: 167562 (654.54 KB)\n",
      "Trainable params: 167562 (654.54 KB)\n",
      "Non-trainable params: 0 (0.00 Byte)\n",
      "_________________________________________________________________\n"
     ]
    }
   ]
  },
  {
   "cell_type": "code",
   "source": [
    "# Train base model with noisy data\n",
    "history = model.fit(cifar_train_images, cifar_train_labels, epochs=10, validation_data=(cifar_test_images, cifar_test_labels))\n",
    "\n",
    "# Evaluate the model\n",
    "test_loss, test_acc = model.evaluate(cifar_test_images,cifar_test_labels)\n",
    "print(f\"\\nTest Accuracy: {test_acc * 100:.2f}%\")"
   ],
   "metadata": {
    "colab": {
     "base_uri": "https://localhost:8080/"
    },
    "id": "uJsLzMT5Z33u",
    "outputId": "7b4d3877-df73-4577-9fb2-939a39757527"
   },
   "execution_count": null,
   "outputs": [
    {
     "output_type": "stream",
     "name": "stdout",
     "text": [
      "Epoch 1/10\n",
      "1563/1563 [==============================] - 14s 9ms/step - loss: 1.4370 - accuracy: 0.4878 - val_loss: 1.4715 - val_accuracy: 0.4983\n",
      "Epoch 2/10\n",
      "1563/1563 [==============================] - 15s 10ms/step - loss: 1.2472 - accuracy: 0.5514 - val_loss: 1.4818 - val_accuracy: 0.5004\n",
      "Epoch 3/10\n",
      "1563/1563 [==============================] - 8s 5ms/step - loss: 1.1788 - accuracy: 0.5799 - val_loss: 1.5285 - val_accuracy: 0.4903\n",
      "Epoch 4/10\n",
      "1563/1563 [==============================] - 9s 6ms/step - loss: 1.1240 - accuracy: 0.6010 - val_loss: 1.5440 - val_accuracy: 0.4935\n",
      "Epoch 5/10\n",
      "1563/1563 [==============================] - 8s 5ms/step - loss: 1.0704 - accuracy: 0.6220 - val_loss: 1.6271 - val_accuracy: 0.4882\n",
      "Epoch 6/10\n",
      "1563/1563 [==============================] - 8s 5ms/step - loss: 1.0194 - accuracy: 0.6395 - val_loss: 1.6920 - val_accuracy: 0.4851\n",
      "Epoch 7/10\n",
      "1563/1563 [==============================] - 9s 6ms/step - loss: 0.9764 - accuracy: 0.6546 - val_loss: 1.7318 - val_accuracy: 0.4840\n",
      "Epoch 8/10\n",
      "1563/1563 [==============================] - 8s 5ms/step - loss: 0.9343 - accuracy: 0.6701 - val_loss: 1.8142 - val_accuracy: 0.4737\n",
      "Epoch 9/10\n",
      "1563/1563 [==============================] - 10s 6ms/step - loss: 0.8918 - accuracy: 0.6853 - val_loss: 1.8672 - val_accuracy: 0.4686\n",
      "Epoch 10/10\n",
      "1563/1563 [==============================] - 8s 5ms/step - loss: 0.8560 - accuracy: 0.6984 - val_loss: 1.9828 - val_accuracy: 0.4595\n",
      "313/313 [==============================] - 1s 3ms/step - loss: 1.9828 - accuracy: 0.4595\n",
      "\n",
      "Test Accuracy: 45.95%\n"
     ]
    }
   ]
  },
  {
   "cell_type": "code",
   "source": [
    "# As another benchmark, the model is trained on the clean dataset --> Around 10% accuracy increase!\n",
    "\n",
    "cifar_train_labels_clean = to_categorical(cifar_clean_label, 10)\n",
    "\n",
    "history2 = model.fit(cifar_train_images, cifar_train_labels_clean, epochs=10, validation_data=(cifar_test_images, cifar_test_labels))\n",
    "\n",
    "# Evaluate the model\n",
    "test_loss, test_acc = model.evaluate(cifar_test_images,cifar_test_labels)\n",
    "print(f\"\\nTest Accuracy: {test_acc * 100:.2f}%\")"
   ],
   "metadata": {
    "colab": {
     "base_uri": "https://localhost:8080/"
    },
    "id": "Sohg2F9jc4is",
    "outputId": "42a96b1f-482c-4abf-8622-75377f20885b"
   },
   "execution_count": null,
   "outputs": [
    {
     "output_type": "stream",
     "name": "stdout",
     "text": [
      "Epoch 1/10\n",
      "1563/1563 [==============================] - 13s 8ms/step - loss: 0.4409 - accuracy: 0.8430 - val_loss: 1.0504 - val_accuracy: 0.6918\n",
      "Epoch 2/10\n",
      "1563/1563 [==============================] - 15s 9ms/step - loss: 0.4171 - accuracy: 0.8525 - val_loss: 1.1328 - val_accuracy: 0.6868\n",
      "Epoch 3/10\n",
      "1563/1563 [==============================] - 18s 12ms/step - loss: 0.3946 - accuracy: 0.8587 - val_loss: 1.1562 - val_accuracy: 0.6888\n",
      "Epoch 4/10\n",
      "1563/1563 [==============================] - 18s 11ms/step - loss: 0.3766 - accuracy: 0.8656 - val_loss: 1.1931 - val_accuracy: 0.6858\n",
      "Epoch 5/10\n",
      "1563/1563 [==============================] - 13s 9ms/step - loss: 0.3571 - accuracy: 0.8720 - val_loss: 1.2851 - val_accuracy: 0.6781\n",
      "Epoch 6/10\n",
      "1563/1563 [==============================] - 7s 5ms/step - loss: 0.3395 - accuracy: 0.8785 - val_loss: 1.2715 - val_accuracy: 0.6775\n",
      "Epoch 7/10\n",
      "1563/1563 [==============================] - 9s 6ms/step - loss: 0.3218 - accuracy: 0.8852 - val_loss: 1.3158 - val_accuracy: 0.6829\n",
      "Epoch 8/10\n",
      "1563/1563 [==============================] - 9s 5ms/step - loss: 0.3026 - accuracy: 0.8914 - val_loss: 1.3721 - val_accuracy: 0.6798\n",
      "Epoch 9/10\n",
      "1563/1563 [==============================] - 8s 5ms/step - loss: 0.2905 - accuracy: 0.8965 - val_loss: 1.4440 - val_accuracy: 0.6833\n",
      "Epoch 10/10\n",
      "1563/1563 [==============================] - 9s 6ms/step - loss: 0.2732 - accuracy: 0.9016 - val_loss: 1.4579 - val_accuracy: 0.6784\n",
      "313/313 [==============================] - 1s 4ms/step - loss: 1.4579 - accuracy: 0.6784\n",
      "\n",
      "Test Accuracy: 67.84%\n"
     ]
    }
   ]
  },
  {
   "cell_type": "markdown",
   "source": [
    "### 5.1.4. Multi Class - CIFAR Image Dataset - with CONFIDENT LEARNING"
   ],
   "metadata": {
    "id": "sy8rSDogUVCp"
   }
  },
  {
   "cell_type": "code",
   "source": [
    "! pip install cleanlab==1.0.1"
   ],
   "metadata": {
    "id": "hBqzgLBEwVtY"
   },
   "execution_count": null,
   "outputs": []
  },
  {
   "cell_type": "code",
   "source": [
    "from cleanlab.pruning import get_noise_indices"
   ],
   "metadata": {
    "id": "MMd0fStn2KMk"
   },
   "execution_count": null,
   "outputs": []
  },
  {
   "cell_type": "code",
   "source": [
    "# predicted_probs = model.predict(cifar_train_images)"
   ],
   "metadata": {
    "id": "nivm71yt1kvd"
   },
   "execution_count": null,
   "outputs": []
  },
  {
   "cell_type": "code",
   "source": [
    "# Define the parameters to search over\n",
    "prune_methods = ['prune_by_class', 'prune_by_noise_rate', 'both']\n",
    "\n",
    "# Initialize variables to store the best parameters and accuracy\n",
    "best_params = {'prune_method': None}\n",
    "best_accuracy = 0.0\n",
    "\n",
    "# Nested loop for grid search\n",
    "for prune_method in prune_methods:\n",
    "    # Generate noisy labels using Cleanlab\n",
    "    noisy_labels = get_noise_indices(\n",
    "        s=cifar_train_labels.argmax(axis=1),\n",
    "        psx=predicted_probs,\n",
    "        prune_method=prune_method,\n",
    "    )\n",
    "\n",
    "    # Filter noisy samples in both images and labels\n",
    "    cifar_train_images_noisy = cifar_train_images[noisy_labels]\n",
    "    noisy_labels_categorical = np.eye(10)[cifar_train_labels.argmax(axis=1)][noisy_labels]\n",
    "\n",
    "\n",
    "    # Train the CNN model with Cleanlab\n",
    "    history_cleanlab = model.fit(cifar_train_images_noisy, noisy_labels_categorical, epochs=10, validation_data=(cifar_test_images, cifar_test_labels))\n",
    "\n",
    "    # Evaluate the CNN model after Cleanlab\n",
    "    _, test_acc_cleanlab = model.evaluate(cifar_test_images, cifar_test_labels)\n",
    "\n",
    "    # Update the best parameters if the accuracy is improved\n",
    "    if test_acc_cleanlab > best_accuracy:\n",
    "        best_accuracy = test_acc_cleanlab\n",
    "        best_params['prune_method'] = prune_method\n",
    "\n",
    "# Print the best parameters and accuracy\n",
    "print(\"Best Parameters:\", best_params)\n",
    "print(\"Best Test Accuracy:\", best_accuracy * 100)"
   ],
   "metadata": {
    "colab": {
     "base_uri": "https://localhost:8080/"
    },
    "id": "l-o-R90PuD63",
    "outputId": "0ba27627-de01-4dde-f322-bb862875473e"
   },
   "execution_count": null,
   "outputs": [
    {
     "output_type": "stream",
     "name": "stdout",
     "text": [
      "Epoch 1/10\n",
      "500/500 [==============================] - 10s 19ms/step - loss: 1.3980 - accuracy: 0.6512 - val_loss: 4.8111 - val_accuracy: 0.2142\n",
      "Epoch 2/10\n",
      "500/500 [==============================] - 4s 7ms/step - loss: 0.7932 - accuracy: 0.7697 - val_loss: 5.1668 - val_accuracy: 0.2148\n",
      "Epoch 3/10\n",
      "500/500 [==============================] - 3s 7ms/step - loss: 0.5692 - accuracy: 0.8280 - val_loss: 5.6353 - val_accuracy: 0.2142\n",
      "Epoch 4/10\n",
      "500/500 [==============================] - 4s 8ms/step - loss: 0.4341 - accuracy: 0.8706 - val_loss: 5.8870 - val_accuracy: 0.2140\n",
      "Epoch 5/10\n",
      "500/500 [==============================] - 4s 7ms/step - loss: 0.3484 - accuracy: 0.8941 - val_loss: 6.2479 - val_accuracy: 0.2073\n",
      "Epoch 6/10\n",
      "500/500 [==============================] - 3s 6ms/step - loss: 0.3017 - accuracy: 0.9068 - val_loss: 6.7033 - val_accuracy: 0.2106\n",
      "Epoch 7/10\n",
      "500/500 [==============================] - 3s 6ms/step - loss: 0.2551 - accuracy: 0.9239 - val_loss: 7.1782 - val_accuracy: 0.2108\n",
      "Epoch 8/10\n",
      "500/500 [==============================] - 4s 8ms/step - loss: 0.2307 - accuracy: 0.9311 - val_loss: 7.4513 - val_accuracy: 0.2060\n",
      "Epoch 9/10\n",
      "500/500 [==============================] - 3s 7ms/step - loss: 0.2052 - accuracy: 0.9385 - val_loss: 7.7428 - val_accuracy: 0.2097\n",
      "Epoch 10/10\n",
      "500/500 [==============================] - 3s 6ms/step - loss: 0.1881 - accuracy: 0.9429 - val_loss: 8.0009 - val_accuracy: 0.2102\n",
      "313/313 [==============================] - 1s 3ms/step - loss: 8.0009 - accuracy: 0.2102\n",
      "Epoch 1/10\n",
      "441/441 [==============================] - 4s 8ms/step - loss: 0.3145 - accuracy: 0.9015 - val_loss: 7.9590 - val_accuracy: 0.2119\n",
      "Epoch 2/10\n",
      "441/441 [==============================] - 4s 8ms/step - loss: 0.1319 - accuracy: 0.9616 - val_loss: 8.3988 - val_accuracy: 0.2084\n",
      "Epoch 3/10\n",
      "441/441 [==============================] - 3s 6ms/step - loss: 0.0625 - accuracy: 0.9864 - val_loss: 9.1265 - val_accuracy: 0.2098\n",
      "Epoch 4/10\n",
      "441/441 [==============================] - 3s 7ms/step - loss: 0.0332 - accuracy: 0.9961 - val_loss: 9.4366 - val_accuracy: 0.2120\n",
      "Epoch 5/10\n",
      "441/441 [==============================] - 3s 7ms/step - loss: 0.0203 - accuracy: 0.9983 - val_loss: 10.0039 - val_accuracy: 0.2112\n",
      "Epoch 6/10\n",
      "441/441 [==============================] - 4s 8ms/step - loss: 0.0124 - accuracy: 0.9993 - val_loss: 10.4156 - val_accuracy: 0.2090\n",
      "Epoch 7/10\n",
      "441/441 [==============================] - 4s 9ms/step - loss: 0.0090 - accuracy: 0.9994 - val_loss: 10.7649 - val_accuracy: 0.2124\n",
      "Epoch 8/10\n",
      "441/441 [==============================] - 3s 7ms/step - loss: 0.0069 - accuracy: 0.9997 - val_loss: 11.0338 - val_accuracy: 0.2129\n",
      "Epoch 9/10\n",
      "441/441 [==============================] - 3s 7ms/step - loss: 0.0068 - accuracy: 0.9996 - val_loss: 11.1927 - val_accuracy: 0.2133\n",
      "Epoch 10/10\n",
      "441/441 [==============================] - 3s 7ms/step - loss: 0.0408 - accuracy: 0.9895 - val_loss: 9.8876 - val_accuracy: 0.1925\n",
      "313/313 [==============================] - 1s 4ms/step - loss: 9.8876 - accuracy: 0.1925\n",
      "Epoch 1/10\n",
      "375/375 [==============================] - 5s 12ms/step - loss: 0.6350 - accuracy: 0.8169 - val_loss: 9.4692 - val_accuracy: 0.1890\n",
      "Epoch 2/10\n",
      "375/375 [==============================] - 2s 6ms/step - loss: 0.1280 - accuracy: 0.9611 - val_loss: 10.1644 - val_accuracy: 0.1941\n",
      "Epoch 3/10\n",
      "375/375 [==============================] - 3s 8ms/step - loss: 0.0440 - accuracy: 0.9916 - val_loss: 10.6582 - val_accuracy: 0.1931\n",
      "Epoch 4/10\n",
      "375/375 [==============================] - 3s 9ms/step - loss: 0.0180 - accuracy: 0.9982 - val_loss: 11.0205 - val_accuracy: 0.1972\n",
      "Epoch 5/10\n",
      "375/375 [==============================] - 3s 8ms/step - loss: 0.0107 - accuracy: 0.9993 - val_loss: 11.2431 - val_accuracy: 0.1946\n",
      "Epoch 6/10\n",
      "375/375 [==============================] - 3s 8ms/step - loss: 0.0082 - accuracy: 0.9994 - val_loss: 11.5685 - val_accuracy: 0.1907\n",
      "Epoch 7/10\n",
      "375/375 [==============================] - 2s 7ms/step - loss: 0.0062 - accuracy: 0.9995 - val_loss: 11.7623 - val_accuracy: 0.1921\n",
      "Epoch 8/10\n",
      "375/375 [==============================] - 3s 8ms/step - loss: 0.0892 - accuracy: 0.9735 - val_loss: 10.2892 - val_accuracy: 0.1803\n",
      "Epoch 9/10\n",
      "375/375 [==============================] - 4s 12ms/step - loss: 0.3175 - accuracy: 0.9025 - val_loss: 10.2896 - val_accuracy: 0.1823\n",
      "Epoch 10/10\n",
      "375/375 [==============================] - 3s 8ms/step - loss: 0.0926 - accuracy: 0.9717 - val_loss: 10.9585 - val_accuracy: 0.1848\n",
      "313/313 [==============================] - 1s 3ms/step - loss: 10.9585 - accuracy: 0.1848\n",
      "Best Parameters: {'prune_method': 'prune_by_class'}\n",
      "Best Test Accuracy: 21.01999968290329\n"
     ]
    }
   ]
  },
  {
   "cell_type": "markdown",
   "source": [
    "## 5.2 Active Learning:\n",
    "\n"
   ],
   "metadata": {
    "id": "iHuTnWMfs4fm"
   }
  },
  {
   "cell_type": "markdown",
   "source": [
    "### 5.2.1 Introduction"
   ],
   "metadata": {
    "id": "cHAQZCWKYabz"
   }
  },
  {
   "cell_type": "markdown",
   "source": [
    "Active Learning is a methodolgy that iteratively chooses what data it wants to be trained on (Settles, 2009). Usually an \"oracle\" provides a small sample of correct labels on the training data. Based on uncertainty and informativeness, further datapoints will be added to the training pool. At this point, these datapoints are unlabeled and will be labeled with the assigned labels from the original training data. Through this, \"high quality labels are being prioritized before adding further data points that could increase noise. In a scenario where data labeling is particularly expensive, this could also help reduce the number of datapoints needed for training.\n",
    "There are different sampling methods to select the next data point for training. In this section, we will focus on the greedy sampling target methodology, but might expand on this further in the future."
   ],
   "metadata": {
    "id": "DDKbQmqoKOMf"
   }
  },
  {
   "cell_type": "markdown",
   "source": [
    "### 5.2.2 Application"
   ],
   "metadata": {
    "id": "GnAJMBQfYiGs"
   }
  },
  {
   "cell_type": "code",
   "source": [
    "# Necessary imports\n",
    "\n",
    "from skactiveml.pool import GreedySamplingX, GreedySamplingTarget, QueryByCommittee, \\\n",
    "    KLDivergenceMaximization\n",
    "from sklearn.ensemble import BaggingRegressor\n",
    "from skactiveml.regressor import NICKernelRegressor, SklearnRegressor\n",
    "from skactiveml.utils import call_func, is_labeled\n",
    "from scipy.stats import norm, uniform\n",
    "from skactiveml.utils import unlabeled_indices, MISSING_LABEL\n",
    "from skactiveml.regressor import SklearnRegressor"
   ],
   "metadata": {
    "id": "A-tjiI89ey9u"
   },
   "execution_count": null,
   "outputs": []
  },
  {
   "cell_type": "code",
   "source": [
    "# Initializing Regression model\n",
    "\n",
    "xgb_model2 = xgb.XGBRegressor(\n",
    "    objective='reg:squarederror',  # Specify the objective for regression\n",
    "    max_depth=3,  # Maximum depth of the tree\n",
    "    learning_rate=0.1,  # Step size shrinkage to prevent overfitting\n",
    "    n_estimators=100  # Number of boosting rounds\n",
    ")\n",
    "\n",
    "# Implementing model in skactiveml wrapper\n",
    "reg = SklearnRegressor(xgb_model2)"
   ],
   "metadata": {
    "id": "PXeT8cqbc2Su"
   },
   "execution_count": null,
   "outputs": []
  },
  {
   "cell_type": "code",
   "source": [
    "# Specify sampling method\n",
    "random_state = 0\n",
    "\n",
    "qs = GreedySamplingTarget(random_state=random_state)\n",
    "# qs = GreedySamplingX(random_state=random_state)"
   ],
   "metadata": {
    "id": "r3wjEXTx8nMw"
   },
   "execution_count": null,
   "outputs": []
  },
  {
   "cell_type": "code",
   "source": [
    "# Specifying an empty label set for the training set\n",
    "y = np.full_like(y_train, np.nan)\n",
    "# Specifying one datapoint as known oracle label\n",
    "y[0] = y_train[0]\n",
    "y_true = y_train"
   ],
   "metadata": {
    "id": "Xbdt4Y9XCvBm"
   },
   "execution_count": null,
   "outputs": []
  },
  {
   "cell_type": "code",
   "source": [
    "def get_ideal_dataset(n_iterations,X_train,X_test,y_test):\n",
    "\n",
    "    high_score = 0\n",
    "    n_iterations = 600\n",
    "    counter = 0\n",
    "    scores = []\n",
    "    x_axis = []\n",
    "    # Iterative process of adding further data points to the training set\n",
    "    for i in range(n_iterations):\n",
    "      reg.fit(X_train, y)\n",
    "      indices, utils = call_func(qs.query,\n",
    "        X=X_train,\n",
    "        y=y,\n",
    "        reg=reg,\n",
    "        fit_reg=True,\n",
    "        return_utilities=True,\n",
    "                                )\n",
    "\n",
    "      old_is_lbld = is_labeled(y)\n",
    "      y[indices] = y_true[indices]\n",
    "      is_lbld = is_labeled(y)\n",
    "\n",
    "      y_pred= reg.predict(X_test)\n",
    "\n",
    "      r2_al = r2_score(y_test, y_pred)\n",
    "\n",
    "      scores.append(r2_al)\n",
    "      x_axis.append(counter)\n",
    "      counter +=1\n",
    "\n",
    "      # Printing progress when the model performance is higher than the base model performance or if performance is improved\n",
    "      if r2_al > 0.867:\n",
    "        if r2_al > high_score:\n",
    "          high_score = r2_al\n",
    "\n",
    "          print(np.count_nonzero(~np.isnan(y)))\n",
    "          print(r2_al)\n",
    "\n",
    "\n",
    "    return [x_axis,scores]"
   ],
   "metadata": {
    "id": "LqQOLLHo0Cm5"
   },
   "execution_count": null,
   "outputs": []
  },
  {
   "cell_type": "code",
   "source": [
    "x_axis, scores = get_ideal_dataset(len(X_train),X_train,X_test,y_test)"
   ],
   "metadata": {
    "colab": {
     "base_uri": "https://localhost:8080/"
    },
    "id": "rm9tmPd1gsYK",
    "outputId": "cd9cca74-b1a9-4db2-f342-2efd8a1ad538"
   },
   "execution_count": null,
   "outputs": [
    {
     "output_type": "stream",
     "name": "stdout",
     "text": [
      "153\n",
      "0.8686576775648445\n",
      "157\n",
      "0.8777961586169383\n",
      "436\n",
      "0.8784164238350934\n",
      "454\n",
      "0.8801526690433797\n",
      "477\n",
      "0.888409775028598\n"
     ]
    }
   ]
  },
  {
   "cell_type": "code",
   "source": [
    "sns.lineplot(x=x_axis, y=scores,label='active learning scores')\n",
    "\n",
    "sns.lineplot(x=[0,600],y=[0.867,0.867],label='base model score')\n",
    "\n",
    "plt.ylim(0.5, 1.0)"
   ],
   "metadata": {
    "colab": {
     "base_uri": "https://localhost:8080/",
     "height": 452
    },
    "id": "22SnUtqFSESP",
    "outputId": "8f53cfe5-d6be-49c2-f9d5-beedab2c4c91"
   },
   "execution_count": null,
   "outputs": [
    {
     "output_type": "execute_result",
     "data": {
      "text/plain": [
       "(0.5, 1.0)"
      ]
     },
     "metadata": {},
     "execution_count": 100
    },
    {
     "output_type": "display_data",
     "data": {
      "text/plain": [
       "<Figure size 640x480 with 1 Axes>"
      ],
      "image/png": "[encoded data removed]"
     },
     "metadata": {}
    }
   ]
  },
  {
   "cell_type": "markdown",
   "source": [
    "Our ideal test score of 0.886 is achieved with 550 data points. This means a significantly better score is possible while only training the model on 73% of the original training data."
   ],
   "metadata": {
    "id": "XFgrUP6Xifl1"
   }
  },
  {
   "cell_type": "markdown",
   "source": [
    "### 5.2.2 CIFAR Active Learning"
   ],
   "metadata": {
    "id": "1NGTSocriHyl"
   }
  },
  {
   "cell_type": "code",
   "source": [
    "# Load CIFAR-10 dataset\n",
    "(train_images, train_labels), (test_images, test_labels) = cifar10.load_data()\n",
    "\n",
    "data_cifar = np.load(folder_path+'/cifar-10-100n-main/data/CIFAR-10_human.npy',allow_pickle=True)\n",
    "data_cifar = data_cifar.item()\n",
    "\n",
    "# Normalize pixel values to be between 0 and 1\n",
    "train_images, test_images = train_images / 255.0, test_images / 255.0\n",
    "\n",
    "# change train_labels to specific noise level\n",
    "\n",
    "clean_label = np.array(data_cifar['clean_label']).reshape(-1, 1)\n",
    "aggre_label = np.array(data_cifar['aggre_label']).reshape(-1, 1)\n",
    "worse_label = np.array(data_cifar['worse_label']).reshape(-1, 1)\n",
    "random_label1 = np.array(data_cifar['random_label1']).reshape(-1, 1)\n",
    "random_label2 = np.array(data_cifar['random_label2']).reshape(-1, 1)\n",
    "\n",
    "\n",
    "# Convert labels to one-hot encoding\n",
    "train_labels = to_categorical(worse_label, 10)\n",
    "test_labels = to_categorical(test_labels, 10)"
   ],
   "metadata": {
    "id": "swMIYCZniMSF"
   },
   "execution_count": null,
   "outputs": []
  },
  {
   "cell_type": "code",
   "source": [
    "# Create CNN model\n",
    "def create_model():\n",
    "    model = models.Sequential()\n",
    "\n",
    "    # Convolutional layers\n",
    "    model.add(layers.Conv2D(32, (3, 3), activation='relu', input_shape=(32, 32, 3)))\n",
    "    model.add(layers.MaxPooling2D((2, 2)))\n",
    "    model.add(layers.Conv2D(64, (3, 3), activation='relu'))\n",
    "    model.add(layers.MaxPooling2D((2, 2)))\n",
    "\n",
    "    # Flatten layer\n",
    "    model.add(layers.Flatten())\n",
    "\n",
    "    # Dense (fully connected) layers\n",
    "    model.add(layers.Dense(64, activation='relu'))\n",
    "    model.add(layers.Dense(10, activation='softmax'))\n",
    "\n",
    "    # Compile the model\n",
    "    model.compile(optimizer='adam',\n",
    "                  loss='categorical_crossentropy',\n",
    "                  metrics=['accuracy'])\n",
    "\n",
    "    return model"
   ],
   "metadata": {
    "id": "6hSBXFZ6iMzt"
   },
   "execution_count": null,
   "outputs": []
  },
  {
   "cell_type": "code",
   "source": [
    "import random\n",
    "random_integers = random.sample(range(0, 50000), 500)\n",
    "\n",
    "# Create Orcacle with 500 initial samples\n",
    "\n",
    "oracle = train_images[random_integers]\n",
    "oracle_labels = clean_label[random_integers]\n",
    "oracle_labels = to_categorical(oracle_labels, 10)\n",
    "worse_label = to_categorical(worse_label, 10)\n",
    "clean_label = to_categorical(clean_label, 10)"
   ],
   "metadata": {
    "id": "zID71WfRiNTL"
   },
   "execution_count": null,
   "outputs": []
  },
  {
   "cell_type": "code",
   "source": [
    "model_active = create_model()\n",
    "\n",
    "# Train the model\n",
    "\n",
    "history = model_active.fit(oracle, oracle_labels, epochs=10, validation_data=(test_images, test_labels))\n",
    "\n",
    "# Evaluate the model\n",
    "\n",
    "test_loss, test_acc = model_active.evaluate(test_images, test_labels)\n",
    "print(f\"\\nTest Accuracy: {test_acc * 100:.2f}%\")"
   ],
   "metadata": {
    "id": "MvYBIBAriNnO"
   },
   "execution_count": null,
   "outputs": []
  },
  {
   "cell_type": "code",
   "source": [
    "# Active learning loop\n",
    "results = []\n",
    "\n",
    "for _ in range(5):  # Replace with your desired number of active learning iterations\n",
    "\n",
    "    # Query for labels using the current model\n",
    "    pool_predictions = model_active.predict(train_images,verbose=0)\n",
    "    uncertainty = np.max(pool_predictions, axis=1)  # You may use other uncertainty measures\n",
    "    query_indices = np.argsort(uncertainty)[:500]  # Select the top 100 most uncertain samples\n",
    "\n",
    "    # Label the selected samples (simulate oracle labeling)\n",
    "    labeled_samples_X = train_images[query_indices]\n",
    "    labeled_samples_y = worse_label[query_indices]\n",
    "\n",
    "    # Add labeled samples to the training set\n",
    "    oracle = np.vstack([oracle, labeled_samples_X])\n",
    "    oracle_labels = np.vstack([oracle_labels, labeled_samples_y])\n",
    "\n",
    "    # Remove labeled samples from the pool\n",
    "    train_images = np.delete(train_images, query_indices, axis=0)\n",
    "    worse_label = np.delete(worse_label, query_indices,axis=0)\n",
    "\n",
    "    # Initiate new model\n",
    "    model_active = create_model()\n",
    "\n",
    "    # Retrain the model on the updated training set\n",
    "    model_active.fit(oracle, oracle_labels, epochs=10, batch_size=32, validation_split=0.1,verbose=0)\n",
    "\n",
    "    test_loss, test_acc = model_active.evaluate(test_images, test_labels,verbose=0)\n",
    "\n",
    "    print('num_training_samples:',oracle.shape[0])\n",
    "    print(test_acc)\n",
    "\n",
    "    results.append([test_acc,oracle.shape[0]])\n",
    "\n",
    "\n",
    "# Evaluate the final model\n",
    "\n",
    "# test_accuracy = model.evaluate(X, y)[1]\n",
    "# print(f'Final Test Accuracy: {test_accuracy}')"
   ],
   "metadata": {
    "id": "H0QWVMvTiN-b"
   },
   "execution_count": null,
   "outputs": []
  },
  {
   "cell_type": "code",
   "source": [
    "metric = [row[0] for row in results]\n",
    "n_samples = [row[1] for row in results]"
   ],
   "metadata": {
    "id": "8TG-2Nt4ipxb"
   },
   "execution_count": null,
   "outputs": []
  },
  {
   "cell_type": "code",
   "source": [
    "plt.plot(n_samples,metric)"
   ],
   "metadata": {
    "id": "OjzWsc9RiqNV"
   },
   "execution_count": null,
   "outputs": []
  },
  {
   "cell_type": "markdown",
   "source": [
    "## 6. Comparison between SOTA methods"
   ],
   "metadata": {
    "id": "qPol888SW1vD"
   }
  },
  {
   "cell_type": "markdown",
   "source": [
    "### 6.1 Comparing Performance"
   ],
   "metadata": {
    "id": "ay508z8lbOlv"
   }
  },
  {
   "cell_type": "markdown",
   "source": [
    "As a base model for the cleanlab grades dataset, we implement an XGBRegressor model. Even on a noisy training set, this base model achieves a base score of 0.867 on the R2 metric.\n",
    "We implement both, the cleanlab implementation of confident learning, as well as the active learning implementation in sklearn on the dataset.\n",
    "Both methodologies are able to improve our base model score. The confident learning methodology achieved a score of 0.925, whereas the active learning method in its current state yields a score of 0.886.\n",
    "Considering the R2 metric, confident learning is leading to significantly better results."
   ],
   "metadata": {
    "id": "zpt_7PTEY74K"
   }
  },
  {
   "cell_type": "markdown",
   "source": [
    "### 6.2 Comparing Noise detection"
   ],
   "metadata": {
    "id": "YWPqPc5sbZfQ"
   }
  },
  {
   "cell_type": "markdown",
   "source": [
    "While ultimately, label noise methodologies should increase a model's performance, its original intention is to generate clean data with as much noise reduction as possible. To evaluate our methodologies on that metric, we will implement a scoring system on the generated datasets from our three methodologies. All data entries that remain in each final dataset after applying a methodology is a \"Clean\" prediction by the methodology. Every entry that has been omitted is a \"Noisy\" prediction by the methodology. As we use data that specifies whether a data entry is actually clean or noisy, we will be able to generate a confusion matrix from this binary classification problem. We will use these separate confusion matrices to compare the methodologies' ability to detect and eliminate noisy data."
   ],
   "metadata": {
    "id": "MeD_0Q9Ebf9C"
   }
  },
  {
   "cell_type": "markdown",
   "source": [
    "## 7. Further Contribution"
   ],
   "metadata": {
    "id": "-5dVVAooJ_3z"
   }
  },
  {
   "cell_type": "markdown",
   "source": [
    "We would like to extend the application of the proposed methodologies on further data sets and various issues. (Tabular: Regression, Binary-MultiClass, Image, Text etc.)\n",
    "We also want to define implement and benchmark further methodologies on label noise for a more extensive analysis. A standardized evaluation system will be proposed to be able to compare and rate the merit of these methodologies between one another.\n",
    "\n",
    "There are ideas to contributing to current cleanlab open source library: https://github.com/cleanlab/cleanlab/wiki#ideas-for-contributing-to-cleanlab\n",
    "\n",
    "One of them is the application on different data sources for benchmarking, which we are already showcasing in this notebook.\n",
    "\n",
    "We will also elaborate more deeply on how our presented methodologies are solving the issue of noisy labels and what their shortcomings might be.\n"
   ],
   "metadata": {
    "id": "DxKKG888KgtY"
   }
  },
  {
   "cell_type": "markdown",
   "source": [
    "## 8. Conclusion"
   ],
   "metadata": {
    "id": "QxT0EAxGzg5o"
   }
  },
  {
   "cell_type": "markdown",
   "source": [
    "In this prototype we have conducted an extensive literature review on data quality evaluation metrics and data quality in general. Through topic modeling techniques, we were able to identify some major themes and sub-categories of data quality. One of these themes is label noise and label anomalies. In the context of this paper we will focus on this subarea.\n",
    "\n",
    "We have conducted some analysis on two major methodologies on label noise in this notebook and have applied it on a novel dataset. For the work that follows, we will try to apply the 2 methods to datasets of various domains and seek the feasibility of the methods. A more expansive way of comparing the success of the data label noise methods will be created as well.\n"
   ],
   "metadata": {
    "id": "k7QOgclOzlA-"
   }
  },
  {
   "cell_type": "markdown",
   "source": [
    "## 9. References\n",
    "\n",
    "1. Northcutt, C.G., Jiang, L. and Chuang, I.L. (2022) Confident learning: Estimating uncertainty in dataset labels, arXiv.org. Available at: https://arxiv.org/abs/1911.00068 (Accessed: 30 November 2023)\n",
    "\n",
    "2. Jiang, Lu. “Understanding Deep Learning on Controlled Noisy Labels.” Blog.research.google, 19 Aug. 2020, blog.research.google/2020/08/understanding-deep-learning-on.html.\n",
    "\n",
    "3. Zha, D., Pervaiz Bhat, Z., Yang, F., Zaid, P., Bhat, K.-H., Lai, F., Yang, Z., Jiang, S., & Zhong, X. (2023). Data-centric Artificial Intelligence: A Survey. 2023. Data-Centric Artificial Intelligence: A Survey, 1(1), 39. https://arxiv.org/pdf/2303.10158.pdf <br/>\n",
    "\n",
    "\n",
    "4. Rose, L. T., & Fischer, K. W. (2011). Garbage In, Garbage Out: Having Useful Data Is Everything. Measurement: Interdisciplinary Research & Perspective, 9(4), 222–226. https://doi.org/10.1080/15366367.2011.632338\n",
    "\n",
    "5. Settles, B. (2009, January 9). Active learning literature survey. MINDS@UW Home. https://minds.wisconsin.edu/handle/1793/60660\n"
   ],
   "metadata": {
    "id": "L8-eaYLA5ZEG"
   }
  }
 ]
}
